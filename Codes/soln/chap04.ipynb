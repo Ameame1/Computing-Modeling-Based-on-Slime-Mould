{
 "cells": [
  {
   "cell_type": "markdown",
   "metadata": {
    "pycharm": {
     "name": "#%% md\n"
    }
   },
   "source": [
    "# Scale-Free Networks\n",
    "\n",
    "Code examples from [Think Complexity, 2nd edition](https://thinkcomplex.com).\n",
    "\n",
    "Copyright 2016 Allen Downey, [MIT License](http://opensource.org/licenses/MIT)"
   ]
  },
  {
   "cell_type": "code",
   "execution_count": 144,
   "metadata": {
    "pycharm": {
     "name": "#%%\n"
    }
   },
   "outputs": [],
   "source": [
    "from os.path import basename, exists\n",
    "\n",
    "def download(url):\n",
    "    filename = basename(url)\n",
    "    if not exists(filename):\n",
    "        from urllib.request import urlretrieve\n",
    "        local, _ = urlretrieve(url, filename)\n",
    "        print('Downloaded ' + local)\n",
    "    \n",
    "download('https://github.com/AllenDowney/ThinkComplexity2/raw/master/notebooks/utils.py')"
   ]
  },
  {
   "cell_type": "code",
   "execution_count": 145,
   "metadata": {
    "pycharm": {
     "name": "#%%\n"
    }
   },
   "outputs": [],
   "source": [
    "import matplotlib.pyplot as plt\n",
    "import networkx as nx\n",
    "import numpy as np\n",
    "import seaborn as sns\n",
    "\n",
    "from utils import decorate, savefig\n",
    "\n",
    "# Set the random seed so the notebook \n",
    "# produces the same results every time.\n",
    "np.random.seed(17)"
   ]
  },
  {
   "cell_type": "code",
   "execution_count": 146,
   "metadata": {
    "pycharm": {
     "name": "#%%\n"
    }
   },
   "outputs": [],
   "source": [
    "# make a directory for figures\n",
    "!mkdir -p figs"
   ]
  },
  {
   "cell_type": "markdown",
   "metadata": {
    "pycharm": {
     "name": "#%% md\n"
    }
   },
   "source": [
    "## Facebook data"
   ]
  },
  {
   "cell_type": "markdown",
   "metadata": {
    "pycharm": {
     "name": "#%% md\n"
    }
   },
   "source": [
    "The following function reads a file with one edge per line, specified by two integer node IDs.\n",
    "NumPy 提供了函数loadtext，它读取给定的文件，并以 NumPy 数组的形式返回内容。参数dtype指定数组元素的类型"
   ]
  },
  {
   "cell_type": "code",
   "execution_count": 147,
   "metadata": {
    "pycharm": {
     "name": "#%%\n"
    }
   },
   "outputs": [],
   "source": [
    "def read_graph(filename):\n",
    "    G = nx.Graph()\n",
    "    array = np.loadtxt(filename, dtype=int)\n",
    "    G.add_edges_from(array)\n",
    "    return G"
   ]
  },
  {
   "cell_type": "markdown",
   "metadata": {
    "pycharm": {
     "name": "#%% md\n"
    }
   },
   "source": [
    "We'll read the Facecook data downloaded from [SNAP](https://snap.stanford.edu/data/egonets-Facebook.html)\n",
    "数据文件为每条边包含一行，用户由 0 到 4038 之间的整数标识。下面是读取文件的代码：\n",
    "\n"
   ]
  },
  {
   "cell_type": "code",
   "execution_count": 148,
   "metadata": {
    "pycharm": {
     "name": "#%%\n"
    }
   },
   "outputs": [],
   "source": [
    "download('https://snap.stanford.edu/data/facebook_combined.txt.gz')"
   ]
  },
  {
   "cell_type": "code",
   "execution_count": 149,
   "metadata": {
    "pycharm": {
     "name": "#%%\n"
    }
   },
   "outputs": [
    {
     "data": {
      "text/plain": "(4039, 88234)"
     },
     "execution_count": 149,
     "metadata": {},
     "output_type": "execute_result"
    }
   ],
   "source": [
    "fb = read_graph('facebook_combined.txt.gz')\n",
    "n = len(fb)\n",
    "m = len(fb.edges())\n",
    "n, m"
   ]
  },
  {
   "cell_type": "markdown",
   "metadata": {
    "pycharm": {
     "name": "#%% md\n"
    }
   },
   "source": [
    "With larger graphs, it takes too long to compute clustering coefficients and path lengths, but we can estimate them by sampling.  NetworkX provides a function in its approximation module that estimates the clustering coefficient:\n",
    "现在我们可以检查这个数据集是否具有小世界图的特征：高群聚性和短路径长度。\n",
    "NetworkX 提供了一个叫做的函数average_clustering，它可以更快地完成相同的工作。\n",
    "\n",
    "但是对于更大的图，它们都太慢，需要与nk^2成正比的时间，其中n是节点数，k是每个节点的邻居数。\n",
    "\n",
    "幸运的是，NetworkX提供了一个通过随机抽样来估计群聚系数的函数。你可以像这样调用它：\n"
   ]
  },
  {
   "cell_type": "code",
   "execution_count": 150,
   "metadata": {
    "pycharm": {
     "name": "#%%\n"
    }
   },
   "outputs": [],
   "source": [
    "from networkx.algorithms.approximation import average_clustering"
   ]
  },
  {
   "cell_type": "markdown",
   "metadata": {
    "pycharm": {
     "name": "#%% md\n"
    }
   },
   "source": [
    "And I've written a function that estimates the average path length.\n",
    "sample_path_lengths(G, nodes=None(随机抽), trials=1000 1000组实验 ):\n",
    "读取图\n",
    "选择随机的节点对并计算它们之间的路径长度。\n",
    "循环返回长度列表\n"
   ]
  },
  {
   "cell_type": "code",
   "execution_count": 151,
   "metadata": {
    "pycharm": {
     "name": "#%%\n"
    }
   },
   "outputs": [],
   "source": [
    "def sample_path_lengths(G, nodes=None, trials=1000):\n",
    "    \"\"\"Choose random pairs of nodes and compute the path length between them.\n",
    "\n",
    "    G: Graph\n",
    "    nodes: list of nodes to choose from\n",
    "    trials: number of pairs to choose\n",
    "\n",
    "    returns: list of path lengths\n",
    "    选择随机的节点对并计算它们之间的路径长度。\n",
    "\n",
    "    G：图表\n",
    "    节点：可供选择的节点列表\n",
    "    试验：可供选择的配对数\n",
    "\n",
    "    返回：路径长度列表\n",
    "    \"\"\"\n",
    "    if nodes is None:\n",
    "        nodes = list(G)\n",
    "    else:\n",
    "        nodes = list(nodes)\n",
    "        \n",
    "    pairs = np.random.choice(nodes, (trials, 2))\n",
    "    lengths = [nx.shortest_path_length(G, *pair) \n",
    "               for pair in pairs]\n",
    "    return lengths"
   ]
  },
  {
   "cell_type": "markdown",
   "source": [
    "计算fb的长度\n",
    "计算出的的应该是一个list 期中包括了1000例任意两点之间的距离"
   ],
   "metadata": {
    "collapsed": false,
    "pycharm": {
     "name": "#%% md\n"
    }
   }
  },
  {
   "cell_type": "code",
   "execution_count": 152,
   "outputs": [
    {
     "data": {
      "text/plain": "[4,\n 2,\n 2,\n 5,\n 3,\n 5,\n 5,\n 4,\n 4,\n 3,\n 3,\n 4,\n 2,\n 6,\n 5,\n 3,\n 3,\n 4,\n 4,\n 3,\n 2,\n 5,\n 4,\n 5,\n 4,\n 2,\n 4,\n 3,\n 3,\n 3,\n 4,\n 6,\n 5,\n 3,\n 3,\n 3,\n 3,\n 4,\n 4,\n 2,\n 4,\n 6,\n 5,\n 4,\n 4,\n 3,\n 4,\n 5,\n 4,\n 7,\n 4,\n 3,\n 5,\n 4,\n 7,\n 3,\n 4,\n 5,\n 5,\n 4,\n 4,\n 2,\n 4,\n 4,\n 4,\n 4,\n 4,\n 5,\n 4,\n 2,\n 4,\n 4,\n 2,\n 6,\n 3,\n 2,\n 4,\n 4,\n 3,\n 3,\n 4,\n 2,\n 2,\n 3,\n 4,\n 4,\n 4,\n 5,\n 3,\n 3,\n 4,\n 3,\n 7,\n 4,\n 5,\n 4,\n 2,\n 4,\n 4,\n 4,\n 5,\n 2,\n 4,\n 2,\n 3,\n 3,\n 4,\n 4,\n 3,\n 2,\n 3,\n 4,\n 3,\n 4,\n 4,\n 4,\n 5,\n 4,\n 2,\n 5,\n 4,\n 3,\n 4,\n 2,\n 3,\n 5,\n 2,\n 7,\n 2,\n 3,\n 4,\n 5,\n 3,\n 4,\n 3,\n 5,\n 5,\n 4,\n 4,\n 6,\n 3,\n 3,\n 4,\n 3,\n 2,\n 2,\n 3,\n 2,\n 4,\n 5,\n 4,\n 4,\n 4,\n 2,\n 5,\n 3,\n 3,\n 4,\n 5,\n 2,\n 4,\n 4,\n 4,\n 5,\n 7,\n 2,\n 4,\n 6,\n 3,\n 4,\n 4,\n 4,\n 4,\n 2,\n 5,\n 2,\n 3,\n 4,\n 3,\n 5,\n 4,\n 5,\n 6,\n 3,\n 2,\n 5,\n 3,\n 4,\n 2,\n 2,\n 4,\n 2,\n 2,\n 2,\n 3,\n 4,\n 4,\n 5,\n 5,\n 3,\n 4,\n 7,\n 3,\n 4,\n 4,\n 1,\n 6,\n 4,\n 2,\n 5,\n 5,\n 3,\n 5,\n 3,\n 4,\n 5,\n 4,\n 3,\n 4,\n 4,\n 5,\n 3,\n 6,\n 3,\n 2,\n 2,\n 2,\n 4,\n 3,\n 4,\n 3,\n 4,\n 4,\n 5,\n 3,\n 3,\n 2,\n 4,\n 4,\n 5,\n 4,\n 3,\n 7,\n 4,\n 4,\n 4,\n 2,\n 4,\n 4,\n 4,\n 2,\n 3,\n 5,\n 5,\n 4,\n 4,\n 3,\n 5,\n 2,\n 4,\n 5,\n 4,\n 2,\n 4,\n 6,\n 4,\n 4,\n 4,\n 5,\n 4,\n 4,\n 4,\n 3,\n 4,\n 4,\n 3,\n 4,\n 4,\n 4,\n 4,\n 3,\n 4,\n 2,\n 3,\n 4,\n 3,\n 4,\n 2,\n 4,\n 3,\n 3,\n 4,\n 3,\n 3,\n 7,\n 4,\n 4,\n 4,\n 3,\n 3,\n 4,\n 4,\n 2,\n 4,\n 4,\n 1,\n 4,\n 5,\n 4,\n 4,\n 3,\n 4,\n 2,\n 5,\n 3,\n 4,\n 3,\n 5,\n 4,\n 2,\n 3,\n 4,\n 4,\n 4,\n 2,\n 8,\n 3,\n 4,\n 6,\n 3,\n 3,\n 3,\n 2,\n 3,\n 4,\n 3,\n 2,\n 4,\n 4,\n 6,\n 5,\n 3,\n 4,\n 3,\n 3,\n 3,\n 2,\n 4,\n 4,\n 5,\n 2,\n 4,\n 3,\n 3,\n 5,\n 3,\n 3,\n 4,\n 2,\n 5,\n 4,\n 3,\n 4,\n 4,\n 4,\n 4,\n 4,\n 2,\n 3,\n 3,\n 2,\n 4,\n 4,\n 2,\n 5,\n 4,\n 4,\n 5,\n 4,\n 2,\n 3,\n 3,\n 4,\n 4,\n 2,\n 4,\n 2,\n 4,\n 4,\n 4,\n 3,\n 6,\n 5,\n 3,\n 2,\n 3,\n 4,\n 4,\n 3,\n 2,\n 3,\n 4,\n 7,\n 4,\n 4,\n 5,\n 5,\n 4,\n 6,\n 2,\n 4,\n 5,\n 4,\n 4,\n 3,\n 2,\n 3,\n 5,\n 2,\n 5,\n 6,\n 4,\n 5,\n 3,\n 4,\n 4,\n 2,\n 3,\n 4,\n 2,\n 5,\n 4,\n 3,\n 3,\n 3,\n 4,\n 3,\n 4,\n 5,\n 4,\n 5,\n 4,\n 4,\n 7,\n 5,\n 4,\n 2,\n 2,\n 4,\n 4,\n 3,\n 4,\n 4,\n 4,\n 3,\n 4,\n 4,\n 3,\n 2,\n 4,\n 4,\n 4,\n 2,\n 4,\n 4,\n 4,\n 2,\n 5,\n 4,\n 5,\n 2,\n 5,\n 5,\n 6,\n 3,\n 2,\n 4,\n 4,\n 3,\n 2,\n 3,\n 2,\n 3,\n 3,\n 2,\n 4,\n 6,\n 4,\n 3,\n 4,\n 4,\n 2,\n 4,\n 2,\n 4,\n 5,\n 3,\n 4,\n 3,\n 5,\n 5,\n 4,\n 2,\n 2,\n 4,\n 3,\n 3,\n 2,\n 5,\n 3,\n 5,\n 4,\n 4,\n 7,\n 4,\n 1,\n 2,\n 5,\n 4,\n 2,\n 3,\n 1,\n 2,\n 4,\n 4,\n 5,\n 2,\n 5,\n 3,\n 4,\n 3,\n 2,\n 5,\n 3,\n 5,\n 5,\n 4,\n 5,\n 4,\n 5,\n 3,\n 5,\n 2,\n 3,\n 4,\n 4,\n 5,\n 3,\n 2,\n 4,\n 3,\n 4,\n 5,\n 4,\n 4,\n 3,\n 6,\n 5,\n 3,\n 3,\n 3,\n 4,\n 5,\n 3,\n 3,\n 4,\n 4,\n 3,\n 3,\n 4,\n 4,\n 3,\n 4,\n 4,\n 4,\n 4,\n 3,\n 2,\n 4,\n 4,\n 4,\n 2,\n 4,\n 4,\n 4,\n 3,\n 4,\n 5,\n 5,\n 5,\n 5,\n 3,\n 3,\n 3,\n 4,\n 2,\n 3,\n 4,\n 6,\n 4,\n 4,\n 4,\n 2,\n 3,\n 3,\n 4,\n 4,\n 4,\n 5,\n 2,\n 4,\n 3,\n 5,\n 5,\n 5,\n 4,\n 6,\n 4,\n 4,\n 3,\n 4,\n 5,\n 4,\n 5,\n 4,\n 4,\n 4,\n 5,\n 4,\n 4,\n 3,\n 3,\n 5,\n 4,\n 2,\n 4,\n 5,\n 3,\n 4,\n 4,\n 4,\n 4,\n 3,\n 4,\n 4,\n 5,\n 7,\n 4,\n 5,\n 5,\n 2,\n 4,\n 4,\n 2,\n 2,\n 2,\n 5,\n 3,\n 2,\n 4,\n 5,\n 5,\n 3,\n 3,\n 3,\n 4,\n 5,\n 4,\n 5,\n 3,\n 2,\n 4,\n 4,\n 6,\n 2,\n 4,\n 5,\n 2,\n 4,\n 5,\n 5,\n 4,\n 4,\n 5,\n 3,\n 3,\n 2,\n 5,\n 6,\n 6,\n 4,\n 2,\n 4,\n 4,\n 3,\n 4,\n 4,\n 3,\n 3,\n 4,\n 3,\n 3,\n 2,\n 3,\n 3,\n 3,\n 4,\n 4,\n 2,\n 3,\n 3,\n 4,\n 2,\n 2,\n 4,\n 3,\n 5,\n 8,\n 4,\n 4,\n 2,\n 2,\n 5,\n 2,\n 5,\n 2,\n 4,\n 3,\n 4,\n 4,\n 4,\n 2,\n 5,\n 2,\n 4,\n 4,\n 4,\n 3,\n 4,\n 4,\n 7,\n 3,\n 4,\n 4,\n 2,\n 5,\n 2,\n 2,\n 4,\n 3,\n 5,\n 4,\n 7,\n 2,\n 3,\n 4,\n 4,\n 4,\n 2,\n 3,\n 6,\n 4,\n 5,\n 3,\n 5,\n 4,\n 4,\n 4,\n 5,\n 4,\n 4,\n 4,\n 3,\n 3,\n 5,\n 7,\n 3,\n 2,\n 4,\n 3,\n 4,\n 5,\n 2,\n 7,\n 4,\n 5,\n 4,\n 4,\n 4,\n 5,\n 3,\n 3,\n 3,\n 5,\n 3,\n 4,\n 4,\n 5,\n 5,\n 3,\n 4,\n 3,\n 4,\n 4,\n 4,\n 2,\n 4,\n 4,\n 2,\n 2,\n 4,\n 5,\n 3,\n 4,\n 3,\n 3,\n 4,\n 4,\n 4,\n 2,\n 4,\n 4,\n 7,\n 4,\n 5,\n 5,\n 3,\n 2,\n 2,\n 2,\n 2,\n 4,\n 4,\n 3,\n 5,\n 3,\n 4,\n 5,\n 3,\n 4,\n 4,\n 5,\n 7,\n 5,\n 5,\n 5,\n 2,\n 3,\n 3,\n 3,\n 4,\n 1,\n 6,\n 4,\n 2,\n 2,\n 2,\n 4,\n 5,\n 5,\n 4,\n 6,\n 3,\n 2,\n 4,\n 2,\n 3,\n 3,\n 5,\n 2,\n 2,\n 3,\n 3,\n 2,\n 5,\n 4,\n 5,\n 4,\n 4,\n 5,\n 5,\n 4,\n 5,\n 3,\n 4,\n 7,\n 5,\n 4,\n 4,\n 4,\n 4,\n 4,\n 3,\n 4,\n 3,\n 2,\n 4,\n 4,\n 4,\n 3,\n 4,\n 4,\n 2,\n 4,\n 4,\n 2,\n 6,\n 4,\n 5,\n 3,\n 2,\n 3,\n 5,\n 2,\n 4,\n 3,\n 5,\n 2,\n 6,\n 4,\n 5,\n 2,\n 4,\n 4,\n 3,\n 3,\n 4,\n 4,\n 4,\n 2,\n 3,\n 5,\n 2,\n 2,\n 4,\n 7,\n 4,\n 4,\n 5,\n 3,\n 3,\n 5,\n 2,\n 5,\n 3,\n 3,\n 3,\n 3,\n 3,\n 2,\n 4,\n 2,\n 1,\n 3,\n 4,\n 3,\n 2,\n 5,\n 2,\n 5,\n 5,\n 4,\n 7,\n 3,\n 6,\n 3,\n 2,\n 4,\n 4,\n 3,\n 3,\n 4,\n 3,\n 3,\n 3,\n 2,\n 6,\n 3,\n 4,\n 4,\n 3,\n 6,\n 2,\n 4,\n 4,\n 3,\n 3,\n 4,\n 4,\n 2,\n 4,\n 4,\n 1,\n 2,\n 4,\n 5,\n 2,\n 6,\n 2,\n 2]"
     },
     "execution_count": 152,
     "metadata": {},
     "output_type": "execute_result"
    }
   ],
   "source": [
    "sample_path_lengths(fb, nodes=None, trials=1000)"
   ],
   "metadata": {
    "collapsed": false,
    "pycharm": {
     "name": "#%%\n"
    }
   }
  },
  {
   "cell_type": "markdown",
   "source": [
    "计算长度"
   ],
   "metadata": {
    "collapsed": false,
    "pycharm": {
     "name": "#%% md\n"
    }
   }
  },
  {
   "cell_type": "code",
   "execution_count": 153,
   "metadata": {
    "pycharm": {
     "name": "#%%\n"
    }
   },
   "outputs": [],
   "source": [
    "def estimate_path_length(G, nodes=None, trials=1000):\n",
    "    return np.mean(sample_path_lengths(G, nodes, trials))"
   ]
  },
  {
   "cell_type": "markdown",
   "metadata": {
    "pycharm": {
     "name": "#%% md\n"
    }
   },
   "source": [
    "The average clustering coefficient is high."
   ]
  },
  {
   "cell_type": "code",
   "execution_count": 154,
   "metadata": {
    "pycharm": {
     "name": "#%%\n"
    }
   },
   "outputs": [
    {
     "data": {
      "text/plain": "0.603"
     },
     "execution_count": 154,
     "metadata": {},
     "output_type": "execute_result"
    }
   ],
   "source": [
    "C = average_clustering(fb)\n",
    "C"
   ]
  },
  {
   "cell_type": "markdown",
   "metadata": {
    "pycharm": {
     "name": "#%% md\n"
    }
   },
   "source": [
    "The average path length is low."
   ]
  },
  {
   "cell_type": "code",
   "execution_count": 155,
   "metadata": {
    "pycharm": {
     "name": "#%%\n"
    }
   },
   "outputs": [
    {
     "data": {
      "text/plain": "3.731"
     },
     "execution_count": 155,
     "metadata": {},
     "output_type": "execute_result"
    }
   ],
   "source": [
    "L = estimate_path_length(fb)\n",
    "L"
   ]
  },
  {
   "cell_type": "markdown",
   "metadata": {
    "pycharm": {
     "name": "#%% md\n"
    }
   },
   "source": [
    "## WS Graph"
   ]
  },
  {
   "cell_type": "markdown",
   "metadata": {
    "pycharm": {
     "name": "#%% md\n"
    }
   },
   "source": [
    "Next I'll construct a WS graph with the same number of nodes and average degree as the Facebook network:\n",
    "在 Facebook 数据集中，每个节点的平均边数约为 22。由于每条边都连接到两个节点，度的均值是每个节点边数的两倍："
   ]
  },
  {
   "cell_type": "code",
   "execution_count": 156,
   "metadata": {
    "pycharm": {
     "name": "#%%\n"
    }
   },
   "outputs": [
    {
     "data": {
      "text/plain": "44"
     },
     "execution_count": 156,
     "metadata": {},
     "output_type": "execute_result"
    }
   ],
   "source": [
    "n = len(fb)\n",
    "m = len(fb.edges())\n",
    "k = int(round(2*m/n))\n",
    "k"
   ]
  },
  {
   "cell_type": "markdown",
   "metadata": {
    "pycharm": {
     "name": "#%% md\n"
    }
   },
   "source": [
    "With `p=0` we get a ring lattice.\n",
    "\n",
    "The number of edges is a little bigger than in the dataset because we have to round `k` to an integer."
   ]
  },
  {
   "cell_type": "code",
   "execution_count": 157,
   "metadata": {
    "pycharm": {
     "name": "#%%\n"
    }
   },
   "outputs": [
    {
     "data": {
      "text/plain": "(4039, 88858)"
     },
     "execution_count": 157,
     "metadata": {},
     "output_type": "execute_result"
    }
   ],
   "source": [
    "lattice = nx.watts_strogatz_graph(n, k, p=0)\n",
    "len(lattice), len(lattice.edges())"
   ]
  },
  {
   "cell_type": "markdown",
   "metadata": {
    "pycharm": {
     "name": "#%% md\n"
    }
   },
   "source": [
    "len(lattice)代表节点数，len(lattice.edges())代表总边数\n",
    "The clustering coefficient is a little higher than in the dataset.\n",
    "C，L分别代表Facebook network的 聚集度和平均路径长度"
   ]
  },
  {
   "cell_type": "code",
   "execution_count": 158,
   "metadata": {
    "pycharm": {
     "name": "#%%\n"
    }
   },
   "outputs": [
    {
     "data": {
      "text/plain": "(0.603, 0.727)"
     },
     "execution_count": 158,
     "metadata": {},
     "output_type": "execute_result"
    }
   ],
   "source": [
    "C, average_clustering(lattice)"
   ]
  },
  {
   "cell_type": "markdown",
   "metadata": {
    "pycharm": {
     "name": "#%% md\n"
    }
   },
   "source": [
    "And the path length is much higher."
   ]
  },
  {
   "cell_type": "code",
   "execution_count": 159,
   "metadata": {
    "pycharm": {
     "name": "#%%\n"
    }
   },
   "outputs": [
    {
     "data": {
      "text/plain": "(3.731, 46.096)"
     },
     "execution_count": 159,
     "metadata": {},
     "output_type": "execute_result"
    }
   ],
   "source": [
    "L, estimate_path_length(lattice)"
   ]
  },
  {
   "cell_type": "markdown",
   "metadata": {
    "pycharm": {
     "name": "#%% md\n"
    }
   },
   "source": [
    "With `p=1` we get a random graph."
   ]
  },
  {
   "cell_type": "code",
   "execution_count": 160,
   "metadata": {
    "pycharm": {
     "name": "#%%\n"
    }
   },
   "outputs": [
    {
     "data": {
      "text/plain": "(2.576, 0.012)"
     },
     "execution_count": 160,
     "metadata": {},
     "output_type": "execute_result"
    }
   ],
   "source": [
    "random_graph = nx.watts_strogatz_graph(n, k, p=1)\n",
    "estimate_path_length(random_graph), average_clustering(random_graph)"
   ]
  },
  {
   "cell_type": "markdown",
   "source": [
    "在随机图中，L是 2.6，甚至比数据集（3.7）短，但C只有 0.011，所以这是不好的。"
   ],
   "metadata": {
    "collapsed": false,
    "pycharm": {
     "name": "#%% md\n"
    }
   }
  },
  {
   "cell_type": "markdown",
   "metadata": {
    "pycharm": {
     "name": "#%% md\n"
    }
   },
   "source": [
    "The clustering coefficient is small.\n"
   ]
  },
  {
   "cell_type": "code",
   "execution_count": 161,
   "metadata": {
    "pycharm": {
     "name": "#%%\n"
    }
   },
   "outputs": [
    {
     "data": {
      "text/plain": "(0.603, 0.009)"
     },
     "execution_count": 161,
     "metadata": {},
     "output_type": "execute_result"
    }
   ],
   "source": [
    "C, average_clustering(random_graph)"
   ]
  },
  {
   "cell_type": "markdown",
   "metadata": {
    "pycharm": {
     "name": "#%% md\n"
    }
   },
   "source": [
    "And the path lengths are very small."
   ]
  },
  {
   "cell_type": "code",
   "execution_count": 162,
   "metadata": {
    "pycharm": {
     "name": "#%%\n"
    }
   },
   "outputs": [
    {
     "data": {
      "text/plain": "(3.731, 2.611)"
     },
     "execution_count": 162,
     "metadata": {},
     "output_type": "execute_result"
    }
   ],
   "source": [
    "L, estimate_path_length(random_graph)"
   ]
  },
  {
   "cell_type": "markdown",
   "metadata": {
    "pycharm": {
     "name": "#%% md\n"
    }
   },
   "source": [
    "By trial and error, I found that `p=0.05` yields a graph with about the right values for `C` and `L`."
   ]
  },
  {
   "cell_type": "code",
   "execution_count": 163,
   "metadata": {
    "pycharm": {
     "name": "#%%\n"
    }
   },
   "outputs": [],
   "source": [
    "ws = nx.watts_strogatz_graph(n, k, 0.05, seed=15)"
   ]
  },
  {
   "cell_type": "markdown",
   "metadata": {
    "pycharm": {
     "name": "#%% md\n"
    }
   },
   "source": [
    "The clustering coefficient is a little higher than in the data.\n",
    "通过反复试验，我们发现，当p=0.05时，我们得到一个高群聚和短路径长度的 WS"
   ]
  },
  {
   "cell_type": "code",
   "execution_count": 164,
   "metadata": {
    "pycharm": {
     "name": "#%%\n"
    }
   },
   "outputs": [
    {
     "data": {
      "text/plain": "(0.603, 0.649)"
     },
     "execution_count": 164,
     "metadata": {},
     "output_type": "execute_result"
    }
   ],
   "source": [
    "C, average_clustering(ws)"
   ]
  },
  {
   "cell_type": "markdown",
   "metadata": {
    "pycharm": {
     "name": "#%% md\n"
    }
   },
   "source": [
    "And the path length is a little lower.\n",
    "在这个图中C是0.63，比数据集高一点，L是 3.2，比数据集低一点。所以这个图很好地模拟了数据集的小世界特征。"
   ]
  },
  {
   "cell_type": "code",
   "execution_count": 165,
   "metadata": {
    "pycharm": {
     "name": "#%%\n"
    }
   },
   "outputs": [
    {
     "data": {
      "text/plain": "(3.731, 3.234)"
     },
     "execution_count": 165,
     "metadata": {},
     "output_type": "execute_result"
    }
   ],
   "source": [
    "L, estimate_path_length(ws)"
   ]
  },
  {
   "cell_type": "markdown",
   "metadata": {
    "pycharm": {
     "name": "#%% md\n"
    }
   },
   "source": [
    "So that seems good so far.\n",
    "群聚系数约为0.61，这是较高的，正如我们所期望的那样，如果这个网络具有小世界特性。\n",
    "\n",
    "平均路径为3.7，在 4000 多个用户的网络中相当短。毕竟这是一个小世界。\n",
    "\n"
   ]
  },
  {
   "cell_type": "markdown",
   "metadata": {
    "collapsed": true,
    "pycharm": {
     "name": "#%% md\n"
    }
   },
   "source": [
    "## Degree 度\n",
    "\n",
    "But let's look at the degree distribution.\n",
    "\n",
    "The following function returns a list of degrees, one for each node:\n",
    "\n",
    "但是让我们看看度数分布。\n",
    "以下函数返回度数列表，每个节点一个度数：\n",
    "节点的度是它连接到的邻居的数量。\n"
   ]
  },
  {
   "cell_type": "code",
   "execution_count": 166,
   "metadata": {
    "pycharm": {
     "name": "#%%\n"
    }
   },
   "outputs": [],
   "source": [
    "def degrees(G):\n",
    "    \"\"\"List of degrees for nodes in `G`.\n",
    "    \n",
    "    G: Graph object\n",
    "    \n",
    "    returns: list of int\n",
    "    \"\"\"\n",
    "    return [G.degree(u) for u in G]"
   ]
  },
  {
   "cell_type": "markdown",
   "metadata": {
    "pycharm": {
     "name": "#%% md\n"
    }
   },
   "source": [
    "The average degree in the WS model is about right.\n",
    "WS 模型中的平均度数大约是正确的。\n",
    "如果 WS 图是 Facebook 网络的一个很好的模型，它应该具有相同的总（或平均）度，理想情况下不同节点的度数相同。\n",
    "数据集中的度的均值是 43.7；WS 模型中的度的均值是 44。到目前为止还不错。"
   ]
  },
  {
   "cell_type": "code",
   "execution_count": 167,
   "metadata": {
    "pycharm": {
     "name": "#%%\n"
    }
   },
   "outputs": [
    {
     "data": {
      "text/plain": "(43.69101262688784, 44.0)"
     },
     "execution_count": 167,
     "metadata": {},
     "output_type": "execute_result"
    }
   ],
   "source": [
    "np.mean(degrees(fb)), np.mean(degrees(ws))"
   ]
  },
  {
   "cell_type": "markdown",
   "metadata": {
    "pycharm": {
     "name": "#%% md\n"
    }
   },
   "source": [
    "但是，WS 模型中的度的标准差为 1.5；数据中的标准差是 52.4。有点糟。\n",
    "But the standard deviation isn't even close:\n",
    "但标准偏差甚至不接近："
   ]
  },
  {
   "cell_type": "code",
   "execution_count": 168,
   "metadata": {
    "pycharm": {
     "name": "#%%\n"
    }
   },
   "outputs": [
    {
     "data": {
      "text/plain": "(52.41411556737521, 1.4309215628189869)"
     },
     "execution_count": 168,
     "metadata": {},
     "output_type": "execute_result"
    }
   ],
   "source": [
    "np.std(degrees(fb)), np.std(degrees(ws))"
   ]
  },
  {
   "cell_type": "markdown",
   "metadata": {
    "pycharm": {
     "name": "#%% md\n"
    }
   },
   "source": [
    "To see what's going on, we need to look at the whole distribution.\n",
    "\n",
    "为了更好地查看，我们必须看看度的 分布，而不仅仅是均值和标准差。\n",
    "I'll start with a very small graph:\n",
    "Pmf 对象来表示度的分布, Pmf 代表“概率质量函数”；\n",
    "Pmf 是值到概率的映射。Pmf 是每个可能的度d，到度为d的节点比例的映射。\n",
    "\n"
   ]
  },
  {
   "cell_type": "code",
   "execution_count": 169,
   "metadata": {
    "pycharm": {
     "name": "#%%\n"
    }
   },
   "outputs": [
    {
     "data": {
      "text/plain": "<Figure size 432x288 with 1 Axes>",
      "image/png": "[encoded data removed]"
     },
     "metadata": {},
     "output_type": "display_data"
    }
   ],
   "source": [
    "G = nx.Graph()\n",
    "G.add_edge(1, 0)\n",
    "G.add_edge(2, 0)\n",
    "G.add_edge(3, 0)\n",
    "nx.draw(G)"
   ]
  },
  {
   "cell_type": "markdown",
   "metadata": {
    "pycharm": {
     "name": "#%% md\n"
    }
   },
   "source": [
    "Here's what the list of degrees looks like for this graph:\n",
    "节点0度为 3，其它度为 1。"
   ]
  },
  {
   "cell_type": "code",
   "execution_count": 170,
   "metadata": {
    "pycharm": {
     "name": "#%%\n"
    }
   },
   "outputs": [
    {
     "data": {
      "text/plain": "[1, 3, 1, 1]"
     },
     "execution_count": 170,
     "metadata": {},
     "output_type": "execute_result"
    }
   ],
   "source": [
    "degrees(G)\n"
   ]
  },
  {
   "cell_type": "markdown",
   "metadata": {
    "pycharm": {
     "name": "#%% md\n"
    }
   },
   "source": [
    "To compute the degree distribution, I'll use the `Pmf` class from `empiricaldist`"
   ]
  },
  {
   "cell_type": "code",
   "execution_count": 171,
   "metadata": {
    "pycharm": {
     "name": "#%%\n"
    }
   },
   "outputs": [],
   "source": [
    "try:\n",
    "    import empiricaldist\n",
    "except ImportError:\n",
    "    !pip install empiricaldist"
   ]
  },
  {
   "cell_type": "markdown",
   "metadata": {
    "pycharm": {
     "name": "#%% md\n"
    }
   },
   "source": [
    "A `Pmf` object maps from each degree to the fraction of nodes with that degree.\n",
    "一个“Pmf”对象从每个度数映射到具有该度数的节点的分数。"
   ]
  },
  {
   "cell_type": "code",
   "execution_count": 172,
   "metadata": {
    "pycharm": {
     "name": "#%%\n"
    }
   },
   "outputs": [
    {
     "data": {
      "text/plain": "1    0.75\n3    0.25\nName: , dtype: float64",
      "text/html": "<div>\n<style scoped>\n    .dataframe tbody tr th:only-of-type {\n        vertical-align: middle;\n    }\n\n    .dataframe tbody tr th {\n        vertical-align: top;\n    }\n\n    .dataframe thead th {\n        text-align: right;\n    }\n</style>\n<table border=\"1\" class=\"dataframe\">\n  <thead>\n    <tr style=\"text-align: right;\">\n      <th></th>\n      <th>probs</th>\n    </tr>\n  </thead>\n  <tbody>\n    <tr>\n      <th>1</th>\n      <td>0.75</td>\n    </tr>\n    <tr>\n      <th>3</th>\n      <td>0.25</td>\n    </tr>\n  </tbody>\n</table>\n</div>"
     },
     "execution_count": 172,
     "metadata": {},
     "output_type": "execute_result"
    }
   ],
   "source": [
    "from empiricaldist import Pmf\n",
    "\n",
    "pmf = Pmf.from_seq(degrees(G))\n",
    "pmf"
   ]
  },
  {
   "cell_type": "markdown",
   "metadata": {
    "pycharm": {
     "name": "#%% md\n"
    }
   },
   "source": [
    "75% of the nodes have degree 1; 25% have degree 3.\n",
    "在这个例子中，75％的节点度为 1，25％度为 3。\n",
    "\n",
    "We can visualize the distribution as a histogram:"
   ]
  },
  {
   "cell_type": "code",
   "execution_count": 173,
   "metadata": {
    "pycharm": {
     "name": "#%%\n"
    }
   },
   "outputs": [
    {
     "data": {
      "text/plain": "<Figure size 432x288 with 1 Axes>",
      "image/png": "[encoded data removed]"
     },
     "metadata": {},
     "output_type": "display_data"
    }
   ],
   "source": [
    "pmf.bar()\n",
    "decorate(xlabel='Degree',\n",
    "         ylabel='Pmf')"
   ]
  },
  {
   "cell_type": "markdown",
   "metadata": {
    "pycharm": {
     "name": "#%% md\n"
    }
   },
   "source": [
    "And we can use the `Pmf` to compute mean and standard deviation:"
   ]
  },
  {
   "cell_type": "code",
   "execution_count": 174,
   "metadata": {
    "pycharm": {
     "name": "#%%\n"
    }
   },
   "outputs": [
    {
     "data": {
      "text/plain": "(43.69101262688785, 52.41411556737521)"
     },
     "execution_count": 174,
     "metadata": {},
     "output_type": "execute_result"
    }
   ],
   "source": [
    "pmf_fb = Pmf.from_seq(degrees(fb))\n",
    "pmf_fb.mean(), pmf_fb.std()"
   ]
  },
  {
   "cell_type": "code",
   "execution_count": 175,
   "metadata": {
    "pycharm": {
     "name": "#%%\n"
    }
   },
   "outputs": [
    {
     "data": {
      "text/plain": "(44.00000000000001, 1.4309215628189869)"
     },
     "execution_count": 175,
     "metadata": {},
     "output_type": "execute_result"
    }
   ],
   "source": [
    "pmf_ws = Pmf.from_seq(degrees(ws))\n",
    "pmf_ws.mean(), pmf_ws.std()"
   ]
  },
  {
   "cell_type": "markdown",
   "metadata": {
    "pycharm": {
     "name": "#%% md\n"
    }
   },
   "source": [
    "We can also use the `Pmf` to look up the fraction of nodes with exactly 1 neighbor.\n",
    "我们还可以使用“Pmf”来查找恰好有 1 个邻居的节点的比例。"
   ]
  },
  {
   "cell_type": "code",
   "execution_count": 225,
   "metadata": {
    "pycharm": {
     "name": "#%%\n"
    }
   },
   "outputs": [
    {
     "data": {
      "text/plain": "(0.018568952711067097, 0)"
     },
     "execution_count": 225,
     "metadata": {},
     "output_type": "execute_result"
    }
   ],
   "source": [
    "pmf_fb(1), pmf_ws(1)"
   ]
  },
  {
   "cell_type": "markdown",
   "metadata": {
    "pycharm": {
     "name": "#%% md\n"
    }
   },
   "source": [
    "Here's what the degree distributions look like for the Facebook data and the WS model.  They don't resemble each other at all."
   ]
  },
  {
   "cell_type": "code",
   "execution_count": 177,
   "metadata": {
    "pycharm": {
     "name": "#%%\n"
    }
   },
   "outputs": [
    {
     "name": "stdout",
     "output_type": "stream",
     "text": [
      "Saving figure to file figs/chap04-1\n"
     ]
    },
    {
     "data": {
      "text/plain": "<Figure size 576x288 with 2 Axes>",
      "image/png": "[encoded data removed]"
     },
     "metadata": {},
     "output_type": "display_data"
    }
   ],
   "source": [
    "plt.figure(figsize=(8,4))\n",
    "\n",
    "plt.subplot(1,2,1)\n",
    "pmf_fb.plot(label='Facebook', color='C0')\n",
    "decorate(xlabel='Degree', ylabel='PMF')\n",
    "\n",
    "plt.subplot(1,2,2)\n",
    "pmf_ws.plot(label='WS graph', color='C1')\n",
    "decorate(xlabel='Degree')\n",
    "\n",
    "savefig('figs/chap04-1')"
   ]
  },
  {
   "cell_type": "markdown",
   "metadata": {
    "pycharm": {
     "name": "#%% md\n"
    }
   },
   "source": [
    "Facebook 数据集和 WS 模型中的度的 PMF\n",
    "We can get a better view of the Facebook data by plotting the PMF on a log-log scale.\n",
    "\n",
    "The result suggests that the degree distribution follows a power law, at least for values larger than 10 or so.\n",
    "\n",
    "The log-log scale doesn't help the WS graph.\n",
    "我们可以通过在对数尺度上绘制 PMF 来更好地查看 Facebook 数据。\n",
    "\n",
    "结果表明度数分布遵循幂律，至少对于大于 10 左右的值。\n",
    "\n",
    "对数比例对 WS 图没有帮助。\n",
    "在 WS 模型中，大多数用户有大约 44 个朋友；最小值是 38，最大值是 50。这个变化不大。在数据集中，有很多用户只有 1 或 2 个朋友，但有一个人有 1000 多个！\n",
    "\n",
    "# 像这样的分布，有许多小的值和一些非常大的值，被称为重尾。"
   ]
  },
  {
   "cell_type": "markdown",
   "source": [
    "# 4.4  Heavy-tailed distributions 重尾分布\n",
    "在复杂性科学的许多领域中，重尾分布是一个常见特征，它们将成为本书的一个反复出现的主题。\n",
    "\n",
    "我们可以在双对数轴绘制它，来获得重尾分布的更清晰的图像，就像上面那副图那样。这种转换突显了分布的尾巴；也就是较大值的概率。\n",
    "\n",
    "在这种转换下，数据大致在一条直线上，这表明分布的最大值与概率之间存在“幂律”关系。在数学上，"
   ],
   "metadata": {
    "collapsed": false,
    "pycharm": {
     "name": "#%% md\n"
    }
   }
  },
  {
   "cell_type": "code",
   "execution_count": 178,
   "metadata": {
    "pycharm": {
     "name": "#%%\n"
    }
   },
   "outputs": [
    {
     "name": "stdout",
     "output_type": "stream",
     "text": [
      "Saving figure to file figs/chap04-2\n"
     ]
    },
    {
     "data": {
      "text/plain": "<Figure size 576x288 with 2 Axes>",
      "image/png": "[encoded data removed]"
     },
     "metadata": {},
     "output_type": "display_data"
    }
   ],
   "source": [
    "plt.figure(figsize=(8,4))\n",
    "options = dict(ls='', marker='.')\n",
    "\n",
    "plt.subplot(1,2,1)\n",
    "plt.plot([20, 1000], [5e-2, 2e-4], color='gray', linestyle='dashed')\n",
    "\n",
    "pmf_fb.plot(label='Facebook', color='C0', **options)\n",
    "decorate(xscale='log', yscale='log',\n",
    "         xlabel='Degree', ylabel='PMF')\n",
    "\n",
    "plt.subplot(1,2,2)\n",
    "pmf_ws.plot(label='WS graph', color='C1', **options)\n",
    "decorate(xlim=[35, 55], \n",
    "         xscale='log', yscale='log',\n",
    "         xlabel='Degree')\n",
    "\n",
    "savefig('figs/chap04-2')"
   ]
  },
  {
   "cell_type": "markdown",
   "metadata": {
    "pycharm": {
     "name": "#%% md\n"
    }
   },
   "source": [
    "The discrepancy between the actual degree distribution and the WS model is the motivation for the BA model.\n",
    "实际度数分布与 WS 模型之间的差异是 我们构建BA 模型的动机。\n",
    "因此，如果一个分布遵循幂律，并且我们在双对数刻度上绘制PMF(k)与k的关系，那么我们预计至少对于k的较大值，将有一条斜率为-α的直线。\n",
    "\n",
    "所有的幂律分布都是重尾的，但是还有其他重尾分布不符合幂律。我们将很快看到更多的例子。\n",
    "\n",
    "但首先，我们有一个问题：WS 模型拥有高群聚性和短路径长度，我们在数据中也看到了，但度的分布根本不像数据。这种差异就启发了我们下一个主题，Barabási-Albert 模型。"
   ]
  },
  {
   "cell_type": "markdown",
   "metadata": {
    "pycharm": {
     "name": "#%% md\n"
    }
   },
   "source": [
    "## BA model\n",
    "\n",
    "Here's a simplified version of [the NetworkX function that generates BA graphs](https://github.com/networkx/networkx/blob/master/networkx/generators/random_graphs.py).\n",
    "1999 年，Barabási 和 Albert 发表了一篇论文“Emergence of Scaling in Random Networks”描述了几个现实世界的网络的结构特征，包含一些图，它们展示了电影演员，万维网（WWW）页面和美国西部电网设施的互联性。\n",
    "他们测量每个节点的度并计算PMF(k)，即节点度为k的比例。然后他们在双对数标度上绘制PMF(k)与k的关系。这些曲线可用一条直线拟合，至少对于k的较大数值；所以他们得出结论，这些分布是重尾的。\n",
    "### Growth\n",
    "BA 模型不是从固定数量的顶点开始，而是从一个较小图开始，每次添加一个顶点。\n",
    "### Preferential attachment:\n",
    "当创建一个新的边时，它更可能连接到一个已经有很多边的节点。这种“富者更富”的效应是一些现实世界网络增长模式的特征。\n",
    "最后，他们表明，由 Barabási-Albert（BA）模型模型生成的图，度的分布遵循幂律。\n",
    "\n",
    "NetworkX 提供了一个生成 BA 图的函数。我们将首先使用它；然后我会告诉你它的工作原理。\n"
   ]
  },
  {
   "cell_type": "code",
   "execution_count": 179,
   "metadata": {
    "pycharm": {
     "name": "#%%\n"
    }
   },
   "outputs": [],
   "source": [
    "# modified version of the NetworkX implementation from\n",
    "# https://github.com/networkx/networkx/blob/master/networkx/generators/random_graphs.py\n",
    "\n",
    "import random\n",
    "\n",
    "def barabasi_albert_graph(n, k, seed=None):\n",
    "    \"\"\"Constructs a BA graph.\n",
    "    \n",
    "    n: number of nodes\n",
    "    k: number of edges for each new node\n",
    "    seed: random seen\n",
    "    \"\"\"\n",
    "    if seed is not None:\n",
    "        random.seed(seed)\n",
    "    \n",
    "    G = nx.empty_graph(k)\n",
    "    targets = set(range(k))\n",
    "    repeated_nodes = []\n",
    "\n",
    "    for source in range(k, n):\n",
    "\n",
    "        G.add_edges_from(zip([source]*k, targets))\n",
    "\n",
    "        repeated_nodes.extend(targets)\n",
    "        repeated_nodes.extend([source] * k)\n",
    "\n",
    "        targets = _random_subset(repeated_nodes, k)\n",
    "\n",
    "    return G"
   ]
  },
  {
   "cell_type": "markdown",
   "metadata": {
    "pycharm": {
     "name": "#%% md\n"
    }
   },
   "source": [
    "And here's the function that generates a random subset without repetition."
   ]
  },
  {
   "cell_type": "code",
   "execution_count": 180,
   "metadata": {
    "pycharm": {
     "name": "#%%\n"
    }
   },
   "outputs": [],
   "source": [
    "def _random_subset(repeated_nodes, k):\n",
    "    \"\"\"Select a random subset of nodes without repeating.\n",
    "    \n",
    "    repeated_nodes: list of nodes\n",
    "    k: size of set\n",
    "    \n",
    "    returns: set of nodes\n",
    "    \"\"\"\n",
    "    targets = set()\n",
    "    while len(targets) < k:\n",
    "        x = random.choice(repeated_nodes)\n",
    "        targets.add(x)\n",
    "    return targets"
   ]
  },
  {
   "cell_type": "markdown",
   "metadata": {
    "pycharm": {
     "name": "#%% md\n"
    }
   },
   "source": [
    "I'll generate a BA graph with the same number of nodes and edges as the Facebook data:"
   ]
  },
  {
   "cell_type": "code",
   "execution_count": 181,
   "metadata": {
    "pycharm": {
     "name": "#%%\n"
    }
   },
   "outputs": [
    {
     "data": {
      "text/plain": "(4039, 88234, 22)"
     },
     "execution_count": 181,
     "metadata": {},
     "output_type": "execute_result"
    }
   ],
   "source": [
    "n = len(fb)\n",
    "m = len(fb.edges())\n",
    "k = int(round(m/n))\n",
    "#点数，边数，每个节点的平均边数\n",
    "n, m, k"
   ]
  },
  {
   "cell_type": "markdown",
   "metadata": {
    "pycharm": {
     "name": "#%% md\n"
    }
   },
   "source": [
    "Providing a random seed means we'll get the same graph every time.\n",
    "提供随机种子意味着我们每次都会得到相同的图表。"
   ]
  },
  {
   "cell_type": "code",
   "execution_count": 182,
   "metadata": {
    "pycharm": {
     "name": "#%%\n"
    }
   },
   "outputs": [],
   "source": [
    "ba = barabasi_albert_graph(n, k, seed=15)"
   ]
  },
  {
   "cell_type": "markdown",
   "metadata": {
    "pycharm": {
     "name": "#%% md\n"
    }
   },
   "source": [
    "The number of edges is pretty close to what we asked for.\n",
    "边的数量非常接近我们要求的数量。\n",
    "所得图形拥有 4039 个节点，每个节点有 21.9 个边。由于每条边连接两个节点，度的均值为 43.8，\n",
    "非常接近数据集中的度的均值 43.7。"
   ]
  },
  {
   "cell_type": "code",
   "execution_count": 183,
   "metadata": {
    "pycharm": {
     "name": "#%%\n"
    }
   },
   "outputs": [
    {
     "data": {
      "text/plain": "(4039, 88374, 21.88016835850458)"
     },
     "execution_count": 183,
     "metadata": {},
     "output_type": "execute_result"
    }
   ],
   "source": [
    "len(ba), len(ba.edges()), len(ba.edges())/len(ba)"
   ]
  },
  {
   "cell_type": "markdown",
   "metadata": {
    "pycharm": {
     "name": "#%% md\n"
    }
   },
   "source": [
    "So the mean degree is about right."
   ]
  },
  {
   "cell_type": "code",
   "execution_count": 184,
   "metadata": {
    "pycharm": {
     "name": "#%%\n"
    }
   },
   "outputs": [
    {
     "data": {
      "text/plain": "(43.69101262688784, 43.76033671700916)"
     },
     "execution_count": 184,
     "metadata": {},
     "output_type": "execute_result"
    }
   ],
   "source": [
    "np.mean(degrees(fb)), np.mean(degrees(ba))"
   ]
  },
  {
   "cell_type": "markdown",
   "metadata": {
    "pycharm": {
     "name": "#%% md\n"
    }
   },
   "source": [
    "The standard deviation of degree is pretty close, and much better than the WS model.\n",
    "度的标准差为 40.9，略低于数据集 52.4，但比我们从 WS 图得到的数值好 1.5 倍。"
   ]
  },
  {
   "cell_type": "code",
   "execution_count": 185,
   "metadata": {
    "pycharm": {
     "name": "#%%\n"
    }
   },
   "outputs": [
    {
     "data": {
      "text/plain": "(52.41411556737521, 41.03760075705614)"
     },
     "execution_count": 185,
     "metadata": {},
     "output_type": "execute_result"
    }
   ],
   "source": [
    "np.std(degrees(fb)), np.std(degrees(ba))"
   ]
  },
  {
   "cell_type": "markdown",
   "metadata": {
    "pycharm": {
     "name": "#%% md\n"
    }
   },
   "source": [
    "Let's take a look at the degree distribution.\n",
    "我们来看看度数分布。\n"
   ]
  },
  {
   "cell_type": "code",
   "execution_count": 186,
   "metadata": {
    "pycharm": {
     "name": "#%%\n"
    }
   },
   "outputs": [],
   "source": [
    "pmf_ba = Pmf.from_seq(degrees(ba))"
   ]
  },
  {
   "cell_type": "markdown",
   "metadata": {
    "pycharm": {
     "name": "#%% md\n"
    }
   },
   "source": [
    "Looking at the PMFs on a linear scale, we see one difference, which is that the BA model has no nodes with degree less than `k`, which is 22.\n",
    "在线性尺度上查看 PMF，我们看到一个区别，即 BA 模型没有度数小于“k”的节点，即 22。"
   ]
  },
  {
   "cell_type": "code",
   "execution_count": 187,
   "metadata": {
    "pycharm": {
     "name": "#%%\n"
    }
   },
   "outputs": [
    {
     "data": {
      "text/plain": "<Figure size 576x288 with 2 Axes>",
      "image/png": "[encoded data removed]"
     },
     "metadata": {},
     "output_type": "display_data"
    }
   ],
   "source": [
    "plt.figure(figsize=(8,4))\n",
    "\n",
    "plt.subplot(1,2,1)\n",
    "pmf_fb.plot(label='Facebook', color='C0')\n",
    "decorate(xlabel='Degree', ylabel='PMF')\n",
    "\n",
    "plt.subplot(1,2,2)\n",
    "pmf_ba.plot(label='BA graph', color='C2')\n",
    "decorate(xlabel='Degree')"
   ]
  },
  {
   "cell_type": "markdown",
   "metadata": {
    "pycharm": {
     "name": "#%% md\n"
    }
   },
   "source": [
    "But if we look at the PMF on a log-log scale, the BA model looks pretty good for values bigger than about 20.  And it seems to follow a power law.\n",
    "但是如果我们在对数尺度上查看 PMF，BA 模型对于大于约 20 的值看起来相当不错。而且它似乎遵循幂律。"
   ]
  },
  {
   "cell_type": "code",
   "execution_count": 188,
   "metadata": {
    "pycharm": {
     "name": "#%%\n"
    }
   },
   "outputs": [
    {
     "name": "stdout",
     "output_type": "stream",
     "text": [
      "Saving figure to file figs/chap04-3\n"
     ]
    },
    {
     "data": {
      "text/plain": "<Figure size 576x288 with 2 Axes>",
      "image/png": "[encoded data removed]"
     },
     "metadata": {},
     "output_type": "display_data"
    }
   ],
   "source": [
    "plt.figure(figsize=(8,4))\n",
    "options = dict(ls='', marker='.')\n",
    "\n",
    "plt.subplot(1,2,1)\n",
    "\n",
    "pmf_fb.plot(label='Facebook', color='C0', **options)\n",
    "decorate(xlabel='Degree', ylabel='PMF',\n",
    "         xscale='log', yscale='log')\n",
    "\n",
    "plt.subplot(1,2,2)\n",
    "\n",
    "pmf_ba.plot(label='BA model', color='C2', **options)\n",
    "decorate(xlabel='Degree',\n",
    "         xlim=[1, 1e4],\n",
    "         xscale='log', yscale='log')\n",
    "\n",
    "savefig('figs/chap04-3')"
   ]
  },
  {
   "cell_type": "markdown",
   "metadata": {
    "pycharm": {
     "name": "#%% md\n"
    }
   },
   "source": [
    "The characteristic path length is even smaller in the model than in the data.\n",
    "平均路径长度L是 2.5，这比实际的网络的L = 3.69更小。所以这很好，虽然可能有点好过头了"
   ]
  },
  {
   "cell_type": "code",
   "execution_count": 189,
   "metadata": {
    "pycharm": {
     "name": "#%%\n"
    }
   },
   "outputs": [
    {
     "data": {
      "text/plain": "(3.731, 2.532)"
     },
     "execution_count": 189,
     "metadata": {},
     "output_type": "execute_result"
    }
   ],
   "source": [
    "L, estimate_path_length(ba)"
   ]
  },
  {
   "cell_type": "markdown",
   "metadata": {
    "pycharm": {
     "name": "#%% md\n"
    }
   },
   "source": [
    "But the clustering coefficient isn't even close.\n",
    "群聚系数C为 0.037，并不接近数据集中的值 0.61。所以这是一个问题"
   ]
  },
  {
   "cell_type": "code",
   "execution_count": 190,
   "metadata": {
    "pycharm": {
     "name": "#%%\n"
    }
   },
   "outputs": [
    {
     "data": {
      "text/plain": "(0.603, 0.048)"
     },
     "execution_count": 190,
     "metadata": {},
     "output_type": "execute_result"
    }
   ],
   "source": [
    "C, average_clustering(ba)"
   ]
  },
  {
   "cell_type": "markdown",
   "metadata": {
    "pycharm": {
     "name": "#%% md\n"
    }
   },
   "source": [
    "In the BA model, the degree distribution is better than in the WS model, but the clustering coefficient is too low.\n",
    "BA模型的度数分布比WS模型好，但聚类系数太低。"
   ]
  },
  {
   "cell_type": "markdown",
   "metadata": {
    "pycharm": {
     "name": "#%% md\n"
    }
   },
   "source": [
    "## Cumulative distributions 累积分布函数(CDF)\n",
    "\n",
    "Cumulative distributions are a better way to visualize distributions.  The following function shows what a cumulative probability is:\n",
    "累积分布是可视化分布的更好方法。以下函数显示了累积概率：\n",
    "更好的选择是累积分布函数 （CDF），它将x值映射为小于或等于x的值的比例。\n",
    "\n",
    "给定一个 Pmf，计算累积概率的最简单方法是将x的概率加起来，包括x："
   ]
  },
  {
   "cell_type": "code",
   "execution_count": 191,
   "metadata": {
    "pycharm": {
     "name": "#%%\n"
    }
   },
   "outputs": [],
   "source": [
    "def cumulative_prob(pmf, x):\n",
    "    \"\"\"Computes the cumulative probability of `x`.\n",
    "    \n",
    "    Total probability of all values <= x.\n",
    "    \n",
    "    returns: float probability\n",
    "    \"\"\"\n",
    "    ps = [pmf[value] for value in pmf.qs if value<=x]\n",
    "    return np.sum(ps)"
   ]
  },
  {
   "cell_type": "markdown",
   "metadata": {
    "pycharm": {
     "name": "#%% md\n"
    }
   },
   "source": [
    "The total probability for all values up to and including 11 is 0.258, so the 25th percentile is about 11.\n",
    "例如，给定数据集中的度的分布，pmf_pf，我们可以计算Facebook用户的好友数小于等于 11 的比例："
   ]
  },
  {
   "cell_type": "code",
   "execution_count": 192,
   "metadata": {
    "pycharm": {
     "name": "#%%\n"
    }
   },
   "outputs": [
    {
     "data": {
      "text/plain": "0.2577370636296113"
     },
     "execution_count": 192,
     "metadata": {},
     "output_type": "execute_result"
    }
   ],
   "source": [
    "cumulative_prob(pmf_fb, 11)"
   ]
  },
  {
   "cell_type": "markdown",
   "metadata": {
    "pycharm": {
     "name": "#%% md\n"
    }
   },
   "source": [
    "The median degree is about 25.\n",
    "结果接近 0.5，这意味着好友数的中位数约为 25。"
   ]
  },
  {
   "cell_type": "code",
   "execution_count": 193,
   "metadata": {
    "pycharm": {
     "name": "#%%\n"
    }
   },
   "outputs": [
    {
     "data": {
      "text/plain": "0.5060658578856152"
     },
     "execution_count": 193,
     "metadata": {},
     "output_type": "execute_result"
    }
   ],
   "source": [
    "cumulative_prob(pmf_fb, 25)"
   ]
  },
  {
   "cell_type": "markdown",
   "metadata": {
    "pycharm": {
     "name": "#%% md\n"
    }
   },
   "source": [
    "And the 75th percentile is about 57.  That is, about 75% of users have 57 friends or fewer."
   ]
  },
  {
   "cell_type": "code",
   "execution_count": 194,
   "metadata": {
    "pycharm": {
     "name": "#%%\n"
    }
   },
   "outputs": [
    {
     "data": {
      "text/plain": "0.751671205743996"
     },
     "execution_count": 194,
     "metadata": {},
     "output_type": "execute_result"
    }
   ],
   "source": [
    "cumulative_prob(pmf_fb, 57)"
   ]
  },
  {
   "cell_type": "markdown",
   "metadata": {
    "pycharm": {
     "name": "#%% md\n"
    }
   },
   "source": [
    "`empiricaldist` provides `Cdf`, which computes cumulative distribution functions.\n",
    "因为 CDF 的噪音比 PMF 少，所以 CDF 更适合可视化。\n",
    "一旦你习惯了 CDF 的解释，它们可以提供比 PMF 更清晰的分布图像。\n",
    "Cdf，代表累积分布函数。我们可以用它来计算数据集中的度的 CDF。"
   ]
  },
  {
   "cell_type": "code",
   "execution_count": 195,
   "metadata": {
    "pycharm": {
     "name": "#%%\n"
    }
   },
   "outputs": [],
   "source": [
    "from empiricaldist import Cdf"
   ]
  },
  {
   "cell_type": "markdown",
   "metadata": {
    "pycharm": {
     "name": "#%% md\n"
    }
   },
   "source": [
    "Here are the degree CDFs for the Facebook data, the WS model, and the BA model.\n",
    "以下是 Facebook 数据、WS 模型和 BA 模型的度数 CDF。"
   ]
  },
  {
   "cell_type": "code",
   "execution_count": 196,
   "metadata": {
    "pycharm": {
     "name": "#%%\n"
    }
   },
   "outputs": [],
   "source": [
    "cdf_fb = Cdf.from_seq(degrees(fb), name='Facebook')"
   ]
  },
  {
   "cell_type": "code",
   "execution_count": 197,
   "metadata": {
    "pycharm": {
     "name": "#%%\n"
    }
   },
   "outputs": [],
   "source": [
    "cdf_ws = Cdf.from_seq(degrees(ws), name='WS model')"
   ]
  },
  {
   "cell_type": "code",
   "execution_count": 198,
   "metadata": {
    "pycharm": {
     "name": "#%%\n"
    }
   },
   "outputs": [],
   "source": [
    "cdf_ba = Cdf.from_seq(degrees(ba), name='BA model')"
   ]
  },
  {
   "cell_type": "markdown",
   "metadata": {
    "pycharm": {
     "name": "#%% md\n"
    }
   },
   "source": [
    "If we plot them on a log-x scale, we get a sense of how well the models fit the central part of the distribution.\n",
    "\n",
    "The WS model is hopeless.  The BA model is ok for values above the median, but not very good for smaller values.\n",
    "如果我们将它们绘制在 log-x 尺度上，我们会了解模型与分布的中心部分的拟合程度。\n",
    "\n",
    "WS 模型是没有希望的。 BA 模型适用于高于中位数的值，但不适用于较小的值。"
   ]
  },
  {
   "cell_type": "code",
   "execution_count": 199,
   "metadata": {
    "pycharm": {
     "name": "#%%\n"
    }
   },
   "outputs": [
    {
     "name": "stdout",
     "output_type": "stream",
     "text": [
      "Saving figure to file figs/chap04-4\n"
     ]
    },
    {
     "data": {
      "text/plain": "<Figure size 576x288 with 2 Axes>",
      "image/png": "[encoded data removed]"
     },
     "metadata": {},
     "output_type": "display_data"
    }
   ],
   "source": [
    "plt.figure(figsize=(8,4))\n",
    "\n",
    "plt.subplot(1,2,1)\n",
    "cdf_fb.plot(color='C0')\n",
    "cdf_ws.plot(color='C1', alpha=0.4)\n",
    "decorate(xlabel='Degree', xscale='log',\n",
    "                 ylabel='CDF')\n",
    "\n",
    "plt.subplot(1,2,2)\n",
    "cdf_fb.plot(color='C0', label='Facebook')\n",
    "cdf_ba.plot(color='C2', alpha=0.4)\n",
    "decorate(xlabel='Degree', xscale='log')\n",
    "\n",
    "savefig('figs/chap04-4')"
   ]
  },
  {
   "cell_type": "markdown",
   "source": [
    "Facebook 数据集中的度的 CDF，以及 WS 模型（左边）和 BA 模型（右边），在双对数刻度上。\n",
    "在对数尺度上，我们看到 BA 模型非常适合分布的尾部。"
   ],
   "metadata": {
    "collapsed": false,
    "pycharm": {
     "name": "#%% md\n"
    }
   }
  },
  {
   "cell_type": "code",
   "execution_count": 200,
   "metadata": {
    "pycharm": {
     "name": "#%%\n"
    }
   },
   "outputs": [
    {
     "name": "stdout",
     "output_type": "stream",
     "text": [
      "Saving figure to file figs/chap04-5\n"
     ]
    },
    {
     "data": {
      "text/plain": "<Figure size 576x288 with 2 Axes>",
      "image/png": "[encoded data removed]"
     },
     "metadata": {},
     "output_type": "display_data"
    }
   ],
   "source": [
    "plt.figure(figsize=(8,4))\n",
    "\n",
    "plt.subplot(1,2,1)\n",
    "(1 - cdf_fb).plot(color='C0')\n",
    "(1 - cdf_ws).plot(color='C1', alpha=0.4)\n",
    "decorate(xlabel='Degree', xscale='log',\n",
    "                 ylabel='CCDF', yscale='log')\n",
    "\n",
    "plt.subplot(1,2,2)\n",
    "\n",
    "(1 - cdf_fb).plot(color='C0', label='Facebook')\n",
    "(1 - cdf_ba).plot(color='C2', alpha=0.4)\n",
    "decorate(xlabel='Degree', xscale='log',\n",
    "                 yscale='log')\n",
    "\n",
    "savefig('figs/chap04-5')"
   ]
  },
  {
   "cell_type": "markdown",
   "metadata": {
    "pycharm": {
     "name": "#%% md\n"
    }
   },
   "source": [
    "But there is certainly room for a model that does a better job of fitting the whole distribution.\n",
    "但肯定有一个模型可以更好地拟合整个分布。"
   ]
  },
  {
   "cell_type": "markdown",
   "metadata": {
    "pycharm": {
     "name": "#%% md\n"
    }
   },
   "source": [
    "## Exercises"
   ]
  },
  {
   "cell_type": "markdown",
   "metadata": {
    "pycharm": {
     "name": "#%% md\n"
    }
   },
   "source": [
    "**Exercise:** Data files from the Barabasi and Albert paper are available from\n",
    "[this web page](https://web.archive.org/web/20150910025718/http://www3.nd.edu/~networks/resources.htm).\n",
    "\n",
    "Their actor collaboration data is included in the repository for this book in a file named\n",
    "`actor.dat.gz`.  The following function reads the file and builds the graph.\n",
    "练习：来自 Barabasi 和 Albert 论文的数据文件可从该网页获得。\n",
    "他们的参与者协作数据包含在本书存储库中名为 actor.dat.gz 的文件中。以下函数读取文件并构建图形。"
   ]
  },
  {
   "cell_type": "code",
   "execution_count": 201,
   "metadata": {
    "pycharm": {
     "name": "#%%\n"
    }
   },
   "outputs": [],
   "source": [
    "download('https://github.com/AllenDowney/ThinkComplexity2/raw/master/data/actor.dat.gz')"
   ]
  },
  {
   "cell_type": "code",
   "execution_count": 202,
   "metadata": {
    "pycharm": {
     "name": "#%%\n"
    }
   },
   "outputs": [],
   "source": [
    "import gzip\n",
    "\n",
    "def read_actor_network(filename, n=None):\n",
    "    \"\"\"Reads graph data from a file.\n",
    "    \n",
    "    filename: string\n",
    "    n: int, number of lines to read (default is all)\n",
    "    \"\"\"\n",
    "    G = nx.Graph()\n",
    "    with gzip.open(filename) as f:\n",
    "        for i, line in enumerate(f):\n",
    "            nodes = [int(x) for x in line.split()]\n",
    "            G.add_edges_from(all_pairs(nodes))\n",
    "            if n and i >= n:\n",
    "                break\n",
    "    return G"
   ]
  },
  {
   "cell_type": "code",
   "execution_count": 203,
   "metadata": {
    "pycharm": {
     "name": "#%%\n"
    }
   },
   "outputs": [],
   "source": [
    "def all_pairs(nodes):\n",
    "    \"\"\"Generates all pairs of nodes.\"\"\"\n",
    "    for i, u in enumerate(nodes):\n",
    "        for j, v in enumerate(nodes):\n",
    "            if i < j:\n",
    "                yield u, v"
   ]
  },
  {
   "cell_type": "markdown",
   "metadata": {
    "pycharm": {
     "name": "#%% md\n"
    }
   },
   "source": [
    "Compute the number of actors in the graph and the number of edges.\n",
    "\n",
    "Check whether this graph has the small world properties, high clustering and low\n",
    "path length.\n",
    "\n",
    "Plot the PMF of degree on a log-log scale.  Does it seem to follow a power law?\n",
    "\n",
    "Also plot the CDF of degree on a log-x scale, to \n",
    "see the general shape of the distribution, and on a log-log scale, to see whether \n",
    "the tail follows a power law.\n",
    "\n",
    "Note: The actor network is not connected, so you might want to use\n",
    "`nx.connected_components` to find connected subsets of the\n",
    "nodes.\n",
    "计算图中参与者的数量和边的数量。\n",
    "检查此图是否具有小世界属性、高聚类和低路径长度。\n",
    "在对数刻度上绘制度数的 PMF。它似乎遵循幂律吗？\n",
    "还要在 log-x 尺度上绘制度数的 CDF，以查看分布的一般形状，并在 log-log 尺度上，查看尾部是否遵循幂律。\n",
    "注意：参与者网络未连接，因此您可能需要使用 nx.connected_components 来查找节点的连接子集。"
   ]
  },
  {
   "cell_type": "code",
   "execution_count": 204,
   "metadata": {
    "pycharm": {
     "name": "#%%\n"
    }
   },
   "outputs": [
    {
     "name": "stdout",
     "output_type": "stream",
     "text": [
      "CPU times: user 303 ms, sys: 14.3 ms, total: 317 ms\n",
      "Wall time: 318 ms\n"
     ]
    },
    {
     "data": {
      "text/plain": "17540"
     },
     "execution_count": 204,
     "metadata": {},
     "output_type": "execute_result"
    }
   ],
   "source": [
    "# WARNING: if you run this with larger values of `n`, you\n",
    "# might run out of memory, and Jupyter does not handle that well.\n",
    "# 可能会耗尽内存，而 Jupyter 不能很好地处理。\n",
    "%time actors = read_actor_network('actor.dat.gz', n=10000)\n",
    "len(actors)"
   ]
  },
  {
   "cell_type": "code",
   "execution_count": 205,
   "metadata": {
    "pycharm": {
     "name": "#%%\n"
    }
   },
   "outputs": [
    {
     "data": {
      "text/plain": "0.7308"
     },
     "execution_count": 205,
     "metadata": {},
     "output_type": "execute_result"
    }
   ],
   "source": [
    "# Solution\n",
    "\n",
    "# As expected, the average clustering is high\n",
    "\n",
    "average_clustering(actors, trials=10000)"
   ]
  },
  {
   "cell_type": "code",
   "execution_count": 206,
   "metadata": {
    "pycharm": {
     "name": "#%%\n"
    }
   },
   "outputs": [
    {
     "name": "stdout",
     "output_type": "stream",
     "text": [
      "17270 3.498\n"
     ]
    }
   ],
   "source": [
    "# Solution\n",
    "\n",
    "# And in the largest connected component, the average path length is low\n",
    "\n",
    "for nodes in nx.connected_components(actors):\n",
    "    if len(nodes) > 100:\n",
    "        print(len(nodes), estimate_path_length(actors, nodes))"
   ]
  },
  {
   "cell_type": "code",
   "execution_count": 207,
   "metadata": {
    "pycharm": {
     "name": "#%%\n"
    }
   },
   "outputs": [
    {
     "data": {
      "text/plain": "(38.35541619156214, 61.53610074821354)"
     },
     "execution_count": 207,
     "metadata": {},
     "output_type": "execute_result"
    }
   ],
   "source": [
    "# Solution\n",
    "\n",
    "# Here are the mean and standard deviation of degree:\n",
    "\n",
    "ds = degrees(actors)\n",
    "np.mean(ds), np.std(ds)"
   ]
  },
  {
   "cell_type": "markdown",
   "source": [
    "# Solution\n",
    "\n",
    "# And the PMF of degree on a log-log scale\n",
    "＃ 解决方案\n",
    "\n",
    "# 和度数的 PMF 在对数尺度上"
   ],
   "metadata": {
    "collapsed": false,
    "pycharm": {
     "name": "#%% md\n"
    }
   }
  },
  {
   "cell_type": "code",
   "execution_count": 208,
   "metadata": {
    "pycharm": {
     "name": "#%%\n"
    }
   },
   "outputs": [
    {
     "data": {
      "text/plain": "<Figure size 432x288 with 1 Axes>",
      "image/png": "[encoded data removed]"
     },
     "metadata": {},
     "output_type": "display_data"
    }
   ],
   "source": [
    "\n",
    "pmf = Pmf.from_seq(ds, name='actors')\n",
    "pmf.plot(**options)\n",
    "decorate(xlabel='Degree', ylabel='PMF',\n",
    "         xscale='log', yscale='log')"
   ]
  },
  {
   "cell_type": "code",
   "execution_count": 209,
   "metadata": {
    "pycharm": {
     "name": "#%%\n"
    }
   },
   "outputs": [
    {
     "data": {
      "text/plain": "<Figure size 432x288 with 1 Axes>",
      "image/png": "[encoded data removed]"
     },
     "metadata": {},
     "output_type": "display_data"
    }
   ],
   "source": [
    "# Solution\n",
    "\n",
    "# Here's the CDF on a log scale\n",
    "\n",
    "cdf = Cdf.from_seq(ds, name='actors')\n",
    "cdf.plot()\n",
    "decorate(xlabel='Degree', ylabel='CDF', xscale='log')"
   ]
  },
  {
   "cell_type": "code",
   "execution_count": 210,
   "metadata": {
    "pycharm": {
     "name": "#%%\n"
    }
   },
   "outputs": [
    {
     "data": {
      "text/plain": "<Figure size 432x288 with 1 Axes>",
      "image/png": "[encoded data removed]"
     },
     "metadata": {},
     "output_type": "display_data"
    }
   ],
   "source": [
    "# Solution\n",
    "\n",
    "# and the CDF on a log-log scale\n",
    "\n",
    "(1-cdf).plot()\n",
    "decorate(xlabel='Degree', ylabel='CDF',\n",
    "                 xscale='log', yscale='log')"
   ]
  },
  {
   "cell_type": "code",
   "execution_count": 211,
   "outputs": [],
   "source": [
    "# Solution\n",
    "\n",
    "# The PMF on a log-log scale suggests a power law.\n",
    "\n",
    "# The CDF on a log-x scale looks like a lognormal distribution, possibly\n",
    "# skewed to the right.\n",
    "\n",
    "# The CDF on a log-log scale does not have the straight line behavior\n",
    "# we expect from a power law, but it is consistent with a heavy-tailed\n",
    "# distribution.\n",
    "\n",
    "# 对数刻度上的 PMF 表明了幂律。\n",
    "\n",
    "# log-x 尺度上的 CDF 看起来像对数正态分布，可能\n",
    "# 向右倾斜。\n",
    "\n",
    "# 对数刻度上的 CDF 不具有直线行为\n",
    "# 我们期望幂律，但它与重尾一致\n"
   ],
   "metadata": {
    "collapsed": false,
    "pycharm": {
     "name": "#%%\n"
    }
   }
  },
  {
   "cell_type": "markdown",
   "metadata": {
    "pycharm": {
     "name": "#%% md\n"
    }
   },
   "source": [
    "**Exercise:** NetworkX provides a function called `powerlaw_cluster_graph` that implements the \"Holme and Kim algorithm for growing graphs with powerlaw degree distribution and approximate average clustering\".  Read the documentation of this function and see if you can use it to generate a graph that has the same number of nodes as the Facebook network, the same average degree, and the same clustering coefficient.  How does the degree distribution in the model compare to the actual distribution?\n",
    "**练习：** NetworkX 提供了一个名为 `powerlaw_cluster_graph` 的函数，它实现了“Holme and Kim 算法，用于增长具有幂律度分布和近似平均聚类的图”。阅读这个函数的文档，看看你是否可以使用它来生成一个与 Facebook 网络具有相同节点数、相同平均度和相同聚类系数的图。模型中的度数分布与实际分布相比如何？"
   ]
  },
  {
   "cell_type": "code",
   "execution_count": 212,
   "metadata": {
    "pycharm": {
     "name": "#%%\n"
    }
   },
   "outputs": [
    {
     "data": {
      "text/plain": "(4039, 88234, 22)"
     },
     "execution_count": 212,
     "metadata": {},
     "output_type": "execute_result"
    }
   ],
   "source": [
    "# Again, here are the parameters of the Facebook data\n",
    "\n",
    "n = len(fb)\n",
    "m = len(fb.edges())\n",
    "k = int(round(m / n))\n",
    "n, m, k"
   ]
  },
  {
   "cell_type": "code",
   "execution_count": 213,
   "metadata": {
    "pycharm": {
     "name": "#%%\n"
    }
   },
   "outputs": [
    {
     "data": {
      "text/plain": "(4039, 88363)"
     },
     "execution_count": 213,
     "metadata": {},
     "output_type": "execute_result"
    }
   ],
   "source": [
    "# Solution\n",
    "\n",
    "# Now we can make an HK graph with these parameters,\n",
    "# and with the target clustering as high as possible.\n",
    "\n",
    "hk = nx.powerlaw_cluster_graph(n, k, 1.0, seed=15)\n",
    "len(hk), len(hk.edges())"
   ]
  },
  {
   "cell_type": "code",
   "execution_count": 214,
   "metadata": {
    "pycharm": {
     "name": "#%%\n"
    }
   },
   "outputs": [
    {
     "data": {
      "text/plain": "(0.603, 0.281)"
     },
     "execution_count": 214,
     "metadata": {},
     "output_type": "execute_result"
    }
   ],
   "source": [
    "# Solution\n",
    "\n",
    "# The average clustering is much higher than in the BA\n",
    "# model, but still not as high as in the data.\n",
    "\n",
    "C, average_clustering(hk)"
   ]
  },
  {
   "cell_type": "code",
   "execution_count": 215,
   "metadata": {
    "pycharm": {
     "name": "#%%\n"
    }
   },
   "outputs": [
    {
     "data": {
      "text/plain": "(3.731, 2.743)"
     },
     "execution_count": 215,
     "metadata": {},
     "output_type": "execute_result"
    }
   ],
   "source": [
    "# Solution\n",
    "\n",
    "# The average path length is even lower than in the data.\n",
    "\n",
    "L, estimate_path_length(hk)"
   ]
  },
  {
   "cell_type": "code",
   "execution_count": 216,
   "metadata": {
    "pycharm": {
     "name": "#%%\n"
    }
   },
   "outputs": [
    {
     "data": {
      "text/plain": "(43.69101262688784, 43.75488982421391)"
     },
     "execution_count": 216,
     "metadata": {},
     "output_type": "execute_result"
    }
   ],
   "source": [
    "# Solution\n",
    "\n",
    "# The mean degree is about right.\n",
    "\n",
    "np.mean(degrees(fb)), np.mean(degrees(hk))"
   ]
  },
  {
   "cell_type": "code",
   "execution_count": 217,
   "metadata": {
    "pycharm": {
     "name": "#%%\n"
    }
   },
   "outputs": [
    {
     "data": {
      "text/plain": "(52.41411556737521, 43.106377456263075)"
     },
     "execution_count": 217,
     "metadata": {},
     "output_type": "execute_result"
    }
   ],
   "source": [
    "# Solution\n",
    "\n",
    "# The standard deviation of degree is a little low\n",
    "\n",
    "np.std(degrees(fb)), np.std(degrees(hk))"
   ]
  },
  {
   "cell_type": "code",
   "execution_count": 218,
   "metadata": {
    "pycharm": {
     "name": "#%%\n"
    }
   },
   "outputs": [
    {
     "data": {
      "text/plain": "<Figure size 432x288 with 1 Axes>",
      "image/png": "[encoded data removed]"
     },
     "metadata": {},
     "output_type": "display_data"
    }
   ],
   "source": [
    "# Solution\n",
    "\n",
    "# The degree distribution is almost identical to the BA model\n",
    "\n",
    "cdf_hk = Cdf.from_seq(degrees(hk), name='HK model')\n",
    "cdf_fb.plot(color='C0')\n",
    "cdf_ba.plot(color='C2', alpha=0.4)\n",
    "cdf_hk.plot(color='C3', alpha=0.4)\n",
    "decorate(xscale='log')"
   ]
  },
  {
   "cell_type": "code",
   "execution_count": 219,
   "metadata": {
    "pycharm": {
     "name": "#%%\n"
    }
   },
   "outputs": [
    {
     "data": {
      "text/plain": "<Figure size 432x288 with 1 Axes>",
      "image/png": "[encoded data removed]"
     },
     "metadata": {},
     "output_type": "display_data"
    }
   ],
   "source": [
    "# Solution\n",
    "\n",
    "# On a log-log scale, both HK and BA are reasonable\n",
    "# models for the tail behavior.\n",
    "\n",
    "(1-cdf_fb).plot()\n",
    "(1-cdf_ba).plot(color='C2', alpha=0.4)\n",
    "(1-cdf_hk).plot(color='C3', alpha=0.4)\n",
    "decorate(xscale='log', yscale='log', loc='upper right')\n"
   ]
  },
  {
   "cell_type": "code",
   "execution_count": 219,
   "metadata": {
    "pycharm": {
     "name": "#%%\n"
    }
   },
   "outputs": [],
   "source": []
  }
 ],
 "metadata": {
  "kernelspec": {
   "display_name": "Python 3 (ipykernel)",
   "language": "python",
   "name": "python3"
  },
  "language_info": {
   "codemirror_mode": {
    "name": "ipython",
    "version": 3
   },
   "file_extension": ".py",
   "mimetype": "text/x-python",
   "name": "python",
   "nbconvert_exporter": "python",
   "pygments_lexer": "ipython3",
   "version": "3.7.11"
  }
 },
 "nbformat": 4,
 "nbformat_minor": 1
}
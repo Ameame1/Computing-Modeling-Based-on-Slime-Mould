{
 "cells": [
  {
   "cell_type": "markdown",
   "metadata": {
    "pycharm": {
     "name": "#%% md\n"
    }
   },
   "source": [
    "# Agent Based Models\n",
    "\n",
    "Code examples from [Think Complexity, 2nd edition](https://thinkcomplex.com).\n",
    "\n",
    "Copyright 2016 Allen Downey, [MIT License](http://opensource.org/licenses/MIT)"
   ]
  },
  {
   "cell_type": "code",
   "execution_count": 2,
   "metadata": {
    "pycharm": {
     "name": "#%%\n"
    }
   },
   "outputs": [],
   "source": [
    "import matplotlib.pyplot as plt\n",
    "import numpy as np"
   ]
  },
  {
   "cell_type": "code",
   "execution_count": 3,
   "metadata": {
    "pycharm": {
     "name": "#%%\n"
    }
   },
   "outputs": [],
   "source": [
    "from os.path import basename, exists\n",
    "\n",
    "def download(url):\n",
    "    filename = basename(url)\n",
    "    if not exists(filename):\n",
    "        from urllib.request import urlretrieve\n",
    "        local, _ = urlretrieve(url, filename)\n",
    "        print('Downloaded ' + local)\n",
    "    \n",
    "download('https://github.com/AllenDowney/ThinkComplexity2/raw/master/notebooks/utils.py')\n",
    "download('https://github.com/AllenDowney/ThinkComplexity2/raw/master/notebooks/Cell2D.py')"
   ]
  },
  {
   "cell_type": "code",
   "execution_count": 4,
   "metadata": {
    "pycharm": {
     "name": "#%%\n"
    }
   },
   "outputs": [],
   "source": [
    "from utils import decorate, savefig\n",
    "# make a directory for figures\n",
    "!mkdir -p figs"
   ]
  },
  {
   "cell_type": "code",
   "execution_count": 5,
   "metadata": {
    "pycharm": {
     "name": "#%%\n"
    }
   },
   "outputs": [],
   "source": [
    "try:\n",
    "    import empiricaldist\n",
    "except ImportError:\n",
    "    !pip install empiricaldist"
   ]
  },
  {
   "cell_type": "markdown",
   "metadata": {
    "pycharm": {
     "name": "#%% md\n"
    }
   },
   "source": [
    "## Schelling's model"
   ]
  },
  {
   "cell_type": "markdown",
   "metadata": {
    "pycharm": {
     "name": "#%% md\n"
    }
   },
   "source": [
    "`locs_where` is a wrapper on `np.nonzero` that returns results as a list of tuples."
   ]
  },
  {
   "cell_type": "code",
   "execution_count": 6,
   "metadata": {
    "pycharm": {
     "name": "#%%\n"
    }
   },
   "outputs": [],
   "source": [
    "def locs_where(condition):\n",
    "    \"\"\"Find cells where a logical array is True.\n",
    "    \n",
    "    condition: logical array\n",
    "    \n",
    "    returns: list of location tuples\n",
    "    查找逻辑数组为 \"真 \"的单元格。\n",
    "\n",
    "    条件：逻辑数组\n",
    "\n",
    "    返回：位置图组的列表\n",
    "\n",
    "    \"\"\"\n",
    "    return list(zip(*np.nonzero(condition)))"
   ]
  },
  {
   "cell_type": "markdown",
   "metadata": {
    "pycharm": {
     "name": "#%% md\n"
    }
   },
   "source": [
    "Here's my implementation of Schelling's model:"
   ]
  },
  {
   "cell_type": "code",
   "execution_count": 7,
   "metadata": {
    "pycharm": {
     "name": "#%%\n"
    }
   },
   "outputs": [],
   "source": [
    "import seaborn as sns\n",
    "from matplotlib.colors import LinearSegmentedColormap\n",
    "\n",
    "# make a custom color map\n",
    "#制作一个自定义的颜色地图\n",
    "palette = sns.color_palette('muted')\n",
    "colors = 'white', palette[1], palette[0]\n",
    "cmap = LinearSegmentedColormap.from_list('cmap', colors)"
   ]
  },
  {
   "cell_type": "code",
   "execution_count": 8,
   "metadata": {
    "pycharm": {
     "name": "#%%\n"
    }
   },
   "outputs": [],
   "source": [
    "from scipy.signal import correlate2d\n",
    "from Cell2D import Cell2D, draw_array\n",
    "\n",
    "class Schelling(Cell2D):\n",
    "    \"\"\"Represents a grid of Schelling agents.\"\"\"\n",
    "    #代表一个谢林代理的网格。\n",
    "\n",
    "    options = dict(mode='same', boundary='wrap')\n",
    "\n",
    "    kernel = np.array([[1, 1, 1],\n",
    "                       [1, 0, 1],\n",
    "                       [1, 1, 1]], dtype=np.int8)\n",
    "    \n",
    "    def __init__(self, n, p):\n",
    "        \"\"\"Initializes the attributes.\n",
    "\n",
    "        n: number of rows\n",
    "        p: threshold on the fraction of similar neighbors\n",
    "        初始化属性。\n",
    "\n",
    "        n：行的数量\n",
    "        p：相似邻居的比例的阈值\n",
    "\n",
    "        \"\"\"\n",
    "        self.p = p\n",
    "        # 0 is empty, 1 is red, 2 is blue\n",
    "        choices = np.array([0, 1, 2], dtype=np.int8)\n",
    "        probs = [0.1, 0.45, 0.45]\n",
    "        self.array = np.random.choice(choices, (n, n), p=probs)\n",
    "\n",
    "    def count_neighbors(self):\n",
    "        \"\"\"Surveys neighboring cells.\n",
    "        \n",
    "        returns: tuple of\n",
    "            empty: True where cells are empty\n",
    "            frac_red: fraction of red neighbors around each cell\n",
    "            frac_blue: fraction of blue neighbors around each cell\n",
    "            frac_same: fraction of neighbors with the same color\n",
    "            调查相邻的单元格。\n",
    "\n",
    "        Returns: tuple of\n",
    "            空。如果单元格是空的，则为真\n",
    "            frac_red：每个单元格周围的红色邻居的比例。\n",
    "            frac_blue：每个单元格周围的蓝色邻居的比例。\n",
    "            frac_same：具有相同颜色的邻居的比例。\n",
    "\n",
    "        \"\"\"\n",
    "        a = self.array\n",
    "        \n",
    "        empty = a==0\n",
    "        red = a==1\n",
    "        blue = a==2\n",
    "\n",
    "        # count red neighbors, blue neighbors, and total\n",
    "        #计算红色邻居、蓝色邻居和总数\n",
    "        num_red = correlate2d(red, self.kernel, **self.options)\n",
    "        num_blue = correlate2d(blue, self.kernel, **self.options)\n",
    "        num_neighbors = num_red + num_blue\n",
    "\n",
    "        # compute fraction of similar neighbors\n",
    "        #计算相似邻居的比例\n",
    "        frac_red = num_red / num_neighbors\n",
    "        frac_blue = num_blue / num_neighbors\n",
    "        \n",
    "        # no neighbors is considered the same as no similar neighbors \n",
    "        # (this is an arbitrary choice for a rare event)\n",
    "        #没有邻居被认为与没有相似的邻居相同\n",
    "        #（这是对一个罕见事件的任意选择）\n",
    "\n",
    "        frac_red[num_neighbors == 0] = 0\n",
    "        frac_blue[num_neighbors == 0] = 0\n",
    "        \n",
    "        # for each cell, compute the fraction of neighbors with the same color\n",
    "        #对于每个单元，计算具有相同颜色的邻居的比例\n",
    "        frac_same = np.where(red, frac_red, frac_blue)\n",
    "\n",
    "        # for empty cells, frac_same is NaN\n",
    "        # 对于空单元格，frac_same为NaN\n",
    "        frac_same[empty] = np.nan\n",
    "        \n",
    "        return empty, frac_red, frac_blue, frac_same\n",
    "\n",
    "    def segregation(self):\n",
    "        \"\"\"Computes the average fraction of similar neighbors.\n",
    "        \n",
    "        returns: fraction of similar neighbors, averaged over cells\n",
    "        计算相似邻居的平均比例。\n",
    "\n",
    "        返回：相似邻居的比例，按单元格的平均数计算。\n",
    "        \"\"\"\n",
    "        _, _, _, frac_same = self.count_neighbors()\n",
    "        return np.nanmean(frac_same)\n",
    "    \n",
    "    def step(self):\n",
    "        \"\"\"Executes one time step.\n",
    "                \n",
    "        returns: fraction of similar neighbors, averaged over cells\n",
    "         返回：相似邻居的比例，以单元格的平均数计算。\n",
    "        \"\"\"\n",
    "        a = self.array\n",
    "        empty, _, _, frac_same = self.count_neighbors()\n",
    "        \n",
    "        # find the unhappy cells (ignore NaN in frac_same)\n",
    "        #找到不快乐的单元格（忽略frac_same中的NaN）。\n",
    "\n",
    "        with np.errstate(invalid='ignore'):\n",
    "            unhappy = frac_same < self.p\n",
    "        unhappy_locs = locs_where(unhappy)\n",
    "        \n",
    "        # find the empty cells\n",
    "        ## 找到空单元格\n",
    "        empty_locs = locs_where(empty)\n",
    "\n",
    "        # shuffle the unhappy cells\n",
    "        #洗刷那些不开心的单元格\n",
    "        if len(unhappy_locs):\n",
    "            np.random.shuffle(unhappy_locs)\n",
    "            \n",
    "        # for each unhappy cell, choose a random destination\n",
    "        # 对于每个不快乐的单元，选择一个随机的目的地\n",
    "\n",
    "        num_empty = np.sum(empty)\n",
    "        \n",
    "        for source in unhappy_locs:\n",
    "            i = np.random.randint(num_empty)\n",
    "            dest = empty_locs[i]\n",
    "            \n",
    "            # move\n",
    "\n",
    "            a[dest] = a[source]\n",
    "            a[source] = 0\n",
    "            empty_locs[i] = source\n",
    "        \n",
    "            # check that the number of empty cells is unchanged\n",
    "            # 检查空单元格的数量是否保持不变\n",
    "            num_empty2 = np.sum(a==0)\n",
    "            assert num_empty == num_empty2\n",
    "        \n",
    "        # return the average fraction of similar neighbors\n",
    "        # 返回相似邻居的平均比例\n",
    "        return np.nanmean(frac_same)\n",
    "        \n",
    "    def draw(self):\n",
    "        \"\"\"Draws the cells.\"\"\"\n",
    "        return draw_array(self.array, cmap=cmap, vmax=2)"
   ]
  },
  {
   "cell_type": "markdown",
   "metadata": {
    "pycharm": {
     "name": "#%% md\n"
    }
   },
   "source": [
    "Here's a small example."
   ]
  },
  {
   "cell_type": "code",
   "execution_count": 8,
   "metadata": {
    "pycharm": {
     "name": "#%%\n"
    }
   },
   "outputs": [
    {
     "data": {
      "text/plain": "0.5144909688013136"
     },
     "execution_count": 8,
     "metadata": {},
     "output_type": "execute_result"
    },
    {
     "data": {
      "text/plain": "<Figure size 432x288 with 1 Axes>",
      "image/png": "[encoded data removed]"
     },
     "metadata": {},
     "output_type": "display_data"
    }
   ],
   "source": [
    "grid = Schelling(n=10, p=0.3)\n",
    "grid.draw()\n",
    "grid.segregation()"
   ]
  },
  {
   "cell_type": "markdown",
   "metadata": {
    "pycharm": {
     "name": "#%% md\n"
    }
   },
   "source": [
    "And here's an animation for a bigger example:\n",
    "\n"
   ]
  },
  {
   "cell_type": "code",
   "execution_count": 9,
   "metadata": {
    "pycharm": {
     "name": "#%%\n"
    }
   },
   "outputs": [
    {
     "data": {
      "text/plain": "<Figure size 432x288 with 1 Axes>",
      "image/png": "[encoded data removed]"
     },
     "metadata": {},
     "output_type": "display_data"
    }
   ],
   "source": [
    "grid = Schelling(n=100, p=0.3)\n",
    "grid.animate(frames=30, interval=0.1)"
   ]
  },
  {
   "cell_type": "markdown",
   "metadata": {
    "pycharm": {
     "name": "#%% md\n"
    }
   },
   "source": [
    "The degree of segregation increases quickly.\n",
    "\n",
    "The following figure shows the process after 2 and 10 steps."
   ]
  },
  {
   "cell_type": "code",
   "execution_count": 10,
   "metadata": {
    "pycharm": {
     "name": "#%%\n"
    }
   },
   "outputs": [
    {
     "name": "stdout",
     "output_type": "stream",
     "text": [
      "Saving figure to file figs/chap09-1\n"
     ]
    },
    {
     "data": {
      "text/plain": "<Figure size 720x288 with 3 Axes>",
      "image/png": "[encoded data removed]"
     },
     "metadata": {},
     "output_type": "display_data"
    }
   ],
   "source": [
    "from utils import three_frame\n",
    "\n",
    "grid = Schelling(n=100, p=0.3)\n",
    "three_frame(grid, [0, 2, 8])\n",
    "\n",
    "savefig('figs/chap09-1')"
   ]
  },
  {
   "cell_type": "markdown",
   "metadata": {
    "pycharm": {
     "name": "#%% md\n"
    }
   },
   "source": [
    "And here's how segregation in steady state relates to `p`, the threshold on the fraction of similar neighbors."
   ]
  },
  {
   "cell_type": "code",
   "execution_count": 11,
   "metadata": {
    "pycharm": {
     "name": "#%%\n"
    }
   },
   "outputs": [
    {
     "name": "stdout",
     "output_type": "stream",
     "text": [
      "0.5 0.8707797990077598 0.3707797990077598\n",
      "0.4 0.8181252110773387 0.4181252110773387\n",
      "0.3 0.7538847395404771 0.4538847395404771\n",
      "0.2 0.5729593164353953 0.3729593164353953\n",
      "Saving figure to file figs/chap09-2\n"
     ]
    },
    {
     "data": {
      "text/plain": "<Figure size 432x288 with 1 Axes>",
      "image/png": "[encoded data removed]"
     },
     "metadata": {},
     "output_type": "display_data"
    }
   ],
   "source": [
    "from utils import set_palette\n",
    "set_palette('Blues', 5, reverse=True)\n",
    "\n",
    "np.random.seed(17)\n",
    "for p in [0.5, 0.4, 0.3, 0.2]:\n",
    "    grid = Schelling(n=100, p=p)\n",
    "    segs = [grid.step() for i in range(12)]\n",
    "    plt.plot(segs, label='p = %.1f' % p)\n",
    "    print(p, segs[-1], segs[-1] - p)\n",
    "    \n",
    "decorate(xlabel='Time steps', ylabel='Segregation',\n",
    "                loc='lower right', ylim=[0, 1])\n",
    "\n",
    "savefig('figs/chap09-2')"
   ]
  },
  {
   "cell_type": "markdown",
   "metadata": {
    "pycharm": {
     "name": "#%% md\n"
    }
   },
   "source": [
    "At `p=0.3`, there is a striking difference between the level that would make people happy, at only 30%, and the level they actually get, around 75%."
   ]
  },
  {
   "cell_type": "markdown",
   "metadata": {
    "pycharm": {
     "name": "#%% md\n"
    }
   },
   "source": [
    "**Exercise:** Experiment with different starting conditions: for example, more or fewer empty cells, or unequal numbers of red and blue agents."
   ]
  },
  {
   "cell_type": "markdown",
   "metadata": {
    "pycharm": {
     "name": "#%% md\n"
    }
   },
   "source": [
    "## Sugarscape"
   ]
  },
  {
   "cell_type": "markdown",
   "metadata": {
    "pycharm": {
     "name": "#%% md\n"
    }
   },
   "source": [
    "`make_locs` takes the dimensions of the grid and returns an array where each row is a coordinate in the grid."
   ]
  },
  {
   "cell_type": "code",
   "execution_count": 9,
   "metadata": {
    "pycharm": {
     "name": "#%%\n"
    }
   },
   "outputs": [],
   "source": [
    "def make_locs(n, m):\n",
    "    \"\"\"Makes array where each row is an index in an `n` by `m` grid.\n",
    "    \n",
    "    n: int number of rows\n",
    "    m: int number of cols\n",
    "    \n",
    "    returns: NumPy array\n",
    "    \"\"\"\n",
    "    t = [(i, j) for i in range(n) for j in range(m)]\n",
    "    return np.array(t)"
   ]
  },
  {
   "cell_type": "code",
   "execution_count": 10,
   "metadata": {
    "pycharm": {
     "name": "#%%\n"
    }
   },
   "outputs": [
    {
     "data": {
      "text/plain": "array([[0, 0],\n       [0, 1],\n       [0, 2],\n       [1, 0],\n       [1, 1],\n       [1, 2]])"
     },
     "execution_count": 10,
     "metadata": {},
     "output_type": "execute_result"
    }
   ],
   "source": [
    "make_locs(2, 3)"
   ]
  },
  {
   "cell_type": "markdown",
   "metadata": {
    "pycharm": {
     "name": "#%% md\n"
    }
   },
   "source": [
    "`make_visible_locs` takes the range of an agents vision and returns an array where each row is the coordinate of a visible cell.\n",
    "\n",
    "The cells are at increasing distances.  The cells at each distance are shuffled. "
   ]
  },
  {
   "cell_type": "code",
   "execution_count": 11,
   "metadata": {
    "pycharm": {
     "name": "#%%\n"
    }
   },
   "outputs": [],
   "source": [
    "def make_visible_locs(vision):\n",
    "    \"\"\"Computes the kernel of visible cells.\n",
    "        \n",
    "    vision: int distance\n",
    "    \"\"\"\n",
    "    def make_array(d):\n",
    "        \"\"\"Generates visible cells with increasing distance.\"\"\"\n",
    "        a = np.array([[-d, 0], [d, 0], [0, -d], [0, d]])\n",
    "        np.random.shuffle(a)\n",
    "        return a\n",
    "                     \n",
    "    arrays = [make_array(d) for d in range(1, vision+1)]\n",
    "    return np.vstack(arrays)"
   ]
  },
  {
   "cell_type": "code",
   "execution_count": 16,
   "metadata": {
    "pycharm": {
     "name": "#%%\n"
    }
   },
   "outputs": [
    {
     "data": {
      "text/plain": "array([[ 0,  1],\n       [ 1,  0],\n       [ 0, -1],\n       [-1,  0],\n       [ 0, -2],\n       [-2,  0],\n       [ 0,  2],\n       [ 2,  0]])"
     },
     "execution_count": 16,
     "metadata": {},
     "output_type": "execute_result"
    }
   ],
   "source": [
    "make_visible_locs(2)"
   ]
  },
  {
   "cell_type": "markdown",
   "metadata": {
    "pycharm": {
     "name": "#%% md\n"
    }
   },
   "source": [
    "`distances_from` returns an array that contains the distance of each cell from the given coordinates."
   ]
  },
  {
   "cell_type": "code",
   "execution_count": 12,
   "metadata": {
    "pycharm": {
     "name": "#%%\n"
    }
   },
   "outputs": [],
   "source": [
    "def distances_from(n, i, j):\n",
    "    \"\"\"Computes an array of distances.\n",
    "    \n",
    "    n: size of the array\n",
    "    i, j: coordinates to find distance from\n",
    "    \n",
    "    returns: array of float\n",
    "    计算一个数组的距离。\n",
    "\n",
    "    n: 数组的大小\n",
    "    i, j: 找出距离的座标\n",
    "\n",
    "    返回：数组中的浮点数\n",
    "    \"\"\"\n",
    "    X, Y = np.indices((n, n))\n",
    "    return np.hypot(X-i, Y-j)"
   ]
  },
  {
   "cell_type": "code",
   "execution_count": 13,
   "metadata": {
    "pycharm": {
     "name": "#%%\n"
    }
   },
   "outputs": [
    {
     "data": {
      "text/plain": "array([[2.82842712, 2.23606798, 2.        , 2.23606798, 2.82842712],\n       [2.23606798, 1.41421356, 1.        , 1.41421356, 2.23606798],\n       [2.        , 1.        , 0.        , 1.        , 2.        ],\n       [2.23606798, 1.41421356, 1.        , 1.41421356, 2.23606798],\n       [2.82842712, 2.23606798, 2.        , 2.23606798, 2.82842712]])"
     },
     "execution_count": 13,
     "metadata": {},
     "output_type": "execute_result"
    }
   ],
   "source": [
    "dist = distances_from(5, 2, 2)\n",
    "dist"
   ]
  },
  {
   "cell_type": "markdown",
   "metadata": {
    "pycharm": {
     "name": "#%% md\n"
    }
   },
   "source": [
    "I use `np.digitize` to set the capacity in each cell according to the distance from the peak.  Here's an example that shows how it works."
   ]
  },
  {
   "cell_type": "code",
   "execution_count": 14,
   "metadata": {
    "pycharm": {
     "name": "#%%\n"
    }
   },
   "outputs": [
    {
     "data": {
      "text/plain": "array([[1, 1, 1, 1, 1],\n       [1, 2, 2, 2, 1],\n       [1, 2, 3, 2, 1],\n       [1, 2, 2, 2, 1],\n       [1, 1, 1, 1, 1]])"
     },
     "execution_count": 14,
     "metadata": {},
     "output_type": "execute_result"
    }
   ],
   "source": [
    "bins = [3, 2, 1, 0]\n",
    "np.digitize(dist, bins)"
   ]
  },
  {
   "cell_type": "markdown",
   "metadata": {
    "pycharm": {
     "name": "#%% md\n"
    }
   },
   "source": [
    "Here's my implementation of Sugarscape:"
   ]
  },
  {
   "cell_type": "code",
   "execution_count": 15,
   "metadata": {
    "pycharm": {
     "name": "#%%\n"
    }
   },
   "outputs": [],
   "source": [
    "class Sugarscape(Cell2D):\n",
    "    \"\"\"Represents an Epstein-Axtell Sugarscape.\"\"\"\n",
    "    \n",
    "    def __init__(self, n, **params):\n",
    "        \"\"\"Initializes the attributes.\n",
    "\n",
    "        n: number of rows and columns\n",
    "        params: dictionary of parameters\n",
    "        \"\"\"\n",
    "        self.n = n\n",
    "        self.params = params\n",
    "        \n",
    "        # track variables\n",
    "        self.agent_count_seq = []\n",
    "    \n",
    "        # make the capacity array\n",
    "        self.capacity = self.make_capacity()\n",
    "        \n",
    "        # initially all cells are at capacity\n",
    "        self.array = self.capacity.copy()\n",
    "        \n",
    "        # make the agents\n",
    "        self.make_agents()\n",
    "        \n",
    "    def make_capacity(self):\n",
    "        \"\"\"Makes the capacity array.\"\"\"\n",
    "        \n",
    "        # compute the distance of each cell from the peaks.\n",
    "        #计算每个细胞与峰值的距离。\n",
    "        dist1 = distances_from(self.n, 15, 15)\n",
    "        dist2 = distances_from(self.n, 35, 35)\n",
    "        dist = np.minimum(dist1, dist2)\n",
    "        \n",
    "        # cells in the capacity array are set according to dist from peak\n",
    "        # 容量阵列中的单元是根据与峰值的距离设置的\n",
    "        bins = [21, 16, 11, 6]\n",
    "        a = np.digitize(dist, bins)\n",
    "        return a\n",
    "        \n",
    "    def make_agents(self):\n",
    "        \"\"\"Makes the agents.\"\"\"\n",
    "        \n",
    "        # determine where the agents start and generate locations\n",
    "        # 确定代理人的起始和产生地点\n",
    "        n, m = self.params.get('starting_box', self.array.shape)\n",
    "        locs = make_locs(n, m)\n",
    "        np.random.shuffle(locs)\n",
    "\n",
    "        # make the agents\n",
    "        num_agents = self.params.get('num_agents', 400)\n",
    "        assert(num_agents <= len(locs))\n",
    "        self.agents = [Agent(locs[i], self.params) \n",
    "                       for i in range(num_agents)]\n",
    "        \n",
    "        # keep track of which cells are occupied\n",
    "         # 追踪哪些单元被占用\n",
    "        self.occupied = set(agent.loc for agent in self.agents)\n",
    "            \n",
    "    def grow(self):\n",
    "        \"\"\"Adds sugar to all cells and caps them by capacity.\"\"\"\n",
    "        #\"\"为所有细胞增加糖分，并按容量上限。\"\"\"\n",
    "        grow_rate = self.params.get('grow_rate', 1)\n",
    "        self.array = np.minimum(self.array + grow_rate, self.capacity)\n",
    "        \n",
    "    def look_and_move(self, center, vision):\n",
    "        \"\"\"Finds the visible cell with the most sugar.\n",
    "        \n",
    "        center: tuple, coordinates of the center cell\n",
    "        vision: int, maximum visible distance\n",
    "        \n",
    "        returns: tuple, coordinates of best cell\n",
    "        \"\"\"\n",
    "        # find all visible cells\n",
    "       #找到拥有最多糖分的可见单元格。\n",
    "       #center: tuple, 中心单元的坐标\n",
    "        #vision: int, 最大可见距离\n",
    "        # 返回：元组，最佳单元的坐标。\n",
    "\n",
    "        # 找到所有可见单元\n",
    "        locs = make_visible_locs(vision)\n",
    "        locs = (locs + center) % self.n\n",
    "        \n",
    "        # convert rows of the array to tuples\n",
    "        locs = [tuple(loc) for loc in locs]\n",
    "        \n",
    "        # select unoccupied cells\n",
    "        empty_locs = [loc for loc in locs if loc not in self.occupied]\n",
    "        \n",
    "        # if all visible cells are occupied, stay put\n",
    "        if len(empty_locs) == 0:\n",
    "            return center\n",
    "        \n",
    "        # look up the sugar level in each cell\n",
    "        t = [self.array[loc] for loc in empty_locs]\n",
    "        \n",
    "        # find the best one and return it\n",
    "        # (in case of tie, argmax returns the first, which\n",
    "        # is the closest)\n",
    "        i = np.argmax(t)\n",
    "        return empty_locs[i]\n",
    "    \n",
    "    def harvest(self, loc):\n",
    "        \"\"\"Removes and returns the sugar from `loc`.\n",
    "        \n",
    "        loc: tuple coordinates\n",
    "        \"\"\"\n",
    "        sugar = self.array[loc]\n",
    "        self.array[loc] = 0\n",
    "        return sugar\n",
    "    \n",
    "    def step(self):\n",
    "        \"\"\"Executes one time step.\"\"\"\n",
    "        replace = self.params.get('replace', False)\n",
    "        \n",
    "        # loop through the agents in random order\n",
    "        random_order = np.random.permutation(self.agents)\n",
    "        for agent in random_order:\n",
    "            \n",
    "            # mark the current cell unoccupied\n",
    "            self.occupied.remove(agent.loc)\n",
    "            \n",
    "            # execute one step\n",
    "            agent.step(self)\n",
    "\n",
    "            # if the agent is dead, remove from the list\n",
    "            if agent.is_starving() or agent.is_old():\n",
    "                self.agents.remove(agent)\n",
    "                if replace:\n",
    "                    self.add_agent()\n",
    "            else:\n",
    "                # otherwise mark its cell occupied\n",
    "                self.occupied.add(agent.loc)\n",
    "\n",
    "        # update the time series\n",
    "        self.agent_count_seq.append(len(self.agents))\n",
    "        \n",
    "        # grow back some sugar\n",
    "        self.grow()\n",
    "        return len(self.agents)\n",
    "    \n",
    "    def add_agent(self):\n",
    "        \"\"\"Generates a new random agent.\n",
    "                \n",
    "        returns: new Agent\n",
    "        \"\"\"\n",
    "        new_agent = Agent(self.random_loc(), self.params)\n",
    "        self.agents.append(new_agent)\n",
    "        self.occupied.add(new_agent.loc)\n",
    "        return new_agent\n",
    "    \n",
    "    def random_loc(self):\n",
    "        \"\"\"Choose a random unoccupied cell.\n",
    "        \n",
    "        returns: tuple coordinates\n",
    "        \"\"\"\n",
    "        while True:\n",
    "            loc = tuple(np.random.randint(self.n, size=2))\n",
    "            if loc not in self.occupied:\n",
    "                return loc\n",
    "\n",
    "    def draw(self):\n",
    "        \"\"\"Draws the cells.\"\"\"\n",
    "        draw_array(self.array, cmap='YlOrRd', vmax=9, origin='lower')\n",
    "        \n",
    "        # draw the agents\n",
    "        xs, ys = self.get_coords()\n",
    "        self.points = plt.plot(xs, ys, '.', color='red')[0]\n",
    "    \n",
    "    def get_coords(self):\n",
    "        \"\"\"Gets the coordinates of the agents.\n",
    "        \n",
    "        Transforms from (row, col) to (x, y).\n",
    "        \n",
    "        returns: tuple of sequences, (xs, ys)\n",
    "        \"\"\"\n",
    "        agents = self.agents\n",
    "        rows, cols = np.transpose([agent.loc for agent in agents])\n",
    "        xs = cols + 0.5\n",
    "        ys = rows + 0.5\n",
    "        return xs, ys"
   ]
  },
  {
   "cell_type": "markdown",
   "metadata": {
    "pycharm": {
     "name": "#%% md\n"
    }
   },
   "source": [
    "Here's my implementation of the agents."
   ]
  },
  {
   "cell_type": "code",
   "execution_count": 16,
   "metadata": {
    "pycharm": {
     "name": "#%%\n"
    }
   },
   "outputs": [],
   "source": [
    "class Agent:\n",
    "    \n",
    "    def __init__(self, loc, params):\n",
    "        \"\"\"Creates a new agent at the given location.\n",
    "        \n",
    "        loc: tuple coordinates\n",
    "        params: dictionary of parameters\n",
    "        \"\"\"\n",
    "        self.loc = tuple(loc)\n",
    "        self.age = 0\n",
    "\n",
    "        # extract the parameters\n",
    "        max_vision = params.get('max_vision', 6)\n",
    "        max_metabolism = params.get('max_metabolism', 4)\n",
    "        min_lifespan = params.get('min_lifespan', 10000)\n",
    "        max_lifespan = params.get('max_lifespan', 10000)\n",
    "        min_sugar = params.get('min_sugar', 5)\n",
    "        max_sugar = params.get('max_sugar', 100)\n",
    "        \n",
    "        # choose attributes\n",
    "        self.vision = np.random.randint(1, max_vision+1)\n",
    "        self.metabolism = np.random.uniform(1, max_metabolism)\n",
    "        self.lifespan = np.random.uniform(min_lifespan, max_lifespan)\n",
    "        self.sugar = np.random.uniform(min_sugar, max_sugar)\n",
    "\n",
    "    def step(self, env):\n",
    "        \"\"\"Look around, move, and harvest.\n",
    "        \n",
    "        env: Sugarscape\n",
    "        \"\"\"\n",
    "        self.loc = env.look_and_move(self.loc, self.vision)\n",
    "        self.sugar += env.harvest(self.loc) - self.metabolism\n",
    "        self.age += 1\n",
    "\n",
    "    def is_starving(self):\n",
    "        \"\"\"Checks if sugar has gone negative.\"\"\"\n",
    "        return self.sugar < 0\n",
    "    \n",
    "    def is_old(self):\n",
    "        \"\"\"Checks if lifespan is exceeded.\"\"\"\n",
    "        return self.age > self.lifespan"
   ]
  },
  {
   "cell_type": "markdown",
   "metadata": {
    "pycharm": {
     "name": "#%% md\n"
    }
   },
   "source": [
    "Here's an example with `n=50`, starting with 400 agents."
   ]
  },
  {
   "cell_type": "code",
   "execution_count": 34,
   "metadata": {
    "scrolled": true,
    "pycharm": {
     "name": "#%%\n"
    }
   },
   "outputs": [
    {
     "data": {
      "text/plain": "<Figure size 432x288 with 1 Axes>",
      "image/png": "[encoded data removed]"
     },
     "metadata": {},
     "output_type": "display_data"
    }
   ],
   "source": [
    "env = Sugarscape(50, num_agents=400)\n",
    "env.draw()"
   ]
  },
  {
   "cell_type": "markdown",
   "metadata": {
    "pycharm": {
     "name": "#%% md\n"
    }
   },
   "source": [
    "The distribution of vision is uniform from 1 to 6."
   ]
  },
  {
   "cell_type": "code",
   "execution_count": 35,
   "metadata": {
    "pycharm": {
     "name": "#%%\n"
    }
   },
   "outputs": [
    {
     "data": {
      "text/plain": "<Figure size 432x288 with 1 Axes>",
      "image/png": "[encoded data removed]"
     },
     "metadata": {},
     "output_type": "display_data"
    }
   ],
   "source": [
    "from empiricaldist import Cdf\n",
    "\n",
    "cdf = Cdf.from_seq(agent.vision for agent in env.agents)\n",
    "cdf.plot()\n",
    "decorate(xlabel='Vision', ylabel='CDF')"
   ]
  },
  {
   "cell_type": "markdown",
   "metadata": {
    "pycharm": {
     "name": "#%% md\n"
    }
   },
   "source": [
    "The distribution of metabolism is uniform from 1 to 4."
   ]
  },
  {
   "cell_type": "code",
   "execution_count": 29,
   "metadata": {
    "pycharm": {
     "name": "#%%\n"
    }
   },
   "outputs": [
    {
     "data": {
      "text/plain": "<Figure size 432x288 with 1 Axes>",
      "image/png": "[encoded data removed]"
     },
     "metadata": {},
     "output_type": "display_data"
    }
   ],
   "source": [
    "cdf = Cdf.from_seq(agent.metabolism for agent in env.agents)\n",
    "cdf.plot()\n",
    "decorate(xlabel='Metabolism', ylabel='CDF')"
   ]
  },
  {
   "cell_type": "markdown",
   "metadata": {
    "pycharm": {
     "name": "#%% md\n"
    }
   },
   "source": [
    "The distribution of initial endowment of sugar is uniform from 5 to 25."
   ]
  },
  {
   "cell_type": "code",
   "execution_count": 30,
   "metadata": {
    "pycharm": {
     "name": "#%%\n"
    }
   },
   "outputs": [
    {
     "data": {
      "text/plain": "<Figure size 432x288 with 1 Axes>",
      "image/png": "[encoded data removed]"
     },
     "metadata": {},
     "output_type": "display_data"
    }
   ],
   "source": [
    "cdf = Cdf.from_seq(agent.sugar for agent in env.agents)\n",
    "cdf.plot()\n",
    "decorate(xlabel='Sugar', ylabel='CDF')"
   ]
  },
  {
   "cell_type": "code",
   "execution_count": 36,
   "metadata": {
    "pycharm": {
     "name": "#%%\n"
    }
   },
   "outputs": [
    {
     "data": {
      "text/plain": "<Figure size 432x288 with 1 Axes>",
      "image/png": "[encoded data removed]"
     },
     "metadata": {},
     "output_type": "display_data"
    }
   ],
   "source": [
    "env.step()\n",
    "env.draw()"
   ]
  },
  {
   "cell_type": "markdown",
   "metadata": {
    "pycharm": {
     "name": "#%% md\n"
    }
   },
   "source": [
    "Here's what the animation looks like."
   ]
  },
  {
   "cell_type": "code",
   "execution_count": 37,
   "metadata": {
    "pycharm": {
     "name": "#%%\n"
    }
   },
   "outputs": [
    {
     "data": {
      "text/plain": "<Figure size 432x288 with 1 Axes>",
      "image/png": "[encoded data removed]"
     },
     "metadata": {},
     "output_type": "display_data"
    }
   ],
   "source": [
    "env.animate(frames=50)"
   ]
  },
  {
   "cell_type": "markdown",
   "metadata": {
    "pycharm": {
     "name": "#%% md\n"
    }
   },
   "source": [
    "The number of agents levels off at the \"carrying capacity\":"
   ]
  },
  {
   "cell_type": "code",
   "execution_count": 28,
   "metadata": {
    "pycharm": {
     "name": "#%%\n"
    }
   },
   "outputs": [
    {
     "data": {
      "text/plain": [
       "268"
      ]
     },
     "execution_count": 28,
     "metadata": {},
     "output_type": "execute_result"
    }
   ],
   "source": [
    "len(env.agents)"
   ]
  },
  {
   "cell_type": "code",
   "execution_count": 29,
   "metadata": {
    "pycharm": {
     "name": "#%%\n"
    }
   },
   "outputs": [
    {
     "data": {
      "image/png": "[encoded data removed]",
      "text/plain": [
       "<Figure size 432x288 with 1 Axes>"
      ]
     },
     "metadata": {
      "needs_background": "light"
     },
     "output_type": "display_data"
    }
   ],
   "source": [
    "plt.plot(env.agent_count_seq)\n",
    "decorate(xlabel='Time steps', ylabel='Number of Agents')"
   ]
  },
  {
   "cell_type": "markdown",
   "metadata": {
    "pycharm": {
     "name": "#%% md\n"
    }
   },
   "source": [
    "This figure shows the state of the system after 2 and 10 steps."
   ]
  },
  {
   "cell_type": "code",
   "execution_count": 30,
   "metadata": {
    "pycharm": {
     "name": "#%%\n"
    }
   },
   "outputs": [
    {
     "name": "stdout",
     "output_type": "stream",
     "text": [
      "Saving figure to file figs/chap09-3\n"
     ]
    },
    {
     "data": {
      "image/png": "[encoded data removed]",
      "text/plain": [
       "<Figure size 720x288 with 3 Axes>"
      ]
     },
     "metadata": {},
     "output_type": "display_data"
    }
   ],
   "source": [
    "env = Sugarscape(50, num_agents=400)\n",
    "three_frame(env, [0, 2, 98])\n",
    "\n",
    "savefig('figs/chap09-3')"
   ]
  },
  {
   "cell_type": "markdown",
   "metadata": {
    "pycharm": {
     "name": "#%% md\n"
    }
   },
   "source": [
    "**Exercise:** Experiment with different numbers of agents.  Try increasing or decreasing their vision or metabolism, and see what effect it has on carrying capacity."
   ]
  },
  {
   "cell_type": "markdown",
   "metadata": {
    "pycharm": {
     "name": "#%% md\n"
    }
   },
   "source": [
    "## Sugarscape with finite lifespans"
   ]
  },
  {
   "cell_type": "markdown",
   "metadata": {
    "pycharm": {
     "name": "#%% md\n"
    }
   },
   "source": [
    "Now we start with 250 agents, with lifetimes from 60 to 100, and replacement."
   ]
  },
  {
   "cell_type": "code",
   "execution_count": 41,
   "metadata": {
    "pycharm": {
     "name": "#%%\n"
    }
   },
   "outputs": [
    {
     "data": {
      "text/plain": "<Figure size 432x288 with 1 Axes>",
      "image/png": "[encoded data removed]"
     },
     "metadata": {},
     "output_type": "display_data"
    }
   ],
   "source": [
    "env = Sugarscape(50, \n",
    "                 num_agents=250,\n",
    "                 min_lifespan=60, \n",
    "                 max_lifespan=100, \n",
    "                 replace=True)\n",
    "\n",
    "env.animate(frames=100)"
   ]
  },
  {
   "cell_type": "markdown",
   "metadata": {
    "pycharm": {
     "name": "#%% md\n"
    }
   },
   "source": [
    "After 100 time steps, the distribution of wealth is skewed to the right.  Most agents have very little sugar, but a few have a lot."
   ]
  },
  {
   "cell_type": "code",
   "execution_count": 32,
   "metadata": {
    "pycharm": {
     "name": "#%%\n"
    }
   },
   "outputs": [
    {
     "data": {
      "image/png": "[encoded data removed]",
      "text/plain": [
       "<Figure size 432x288 with 1 Axes>"
      ]
     },
     "metadata": {
      "needs_background": "light"
     },
     "output_type": "display_data"
    }
   ],
   "source": [
    "cdf = Cdf.from_seq(agent.sugar for agent in env.agents)\n",
    "cdf.plot()\n",
    "decorate(xlabel='Wealth', ylabel='CDF')"
   ]
  },
  {
   "cell_type": "code",
   "execution_count": 33,
   "metadata": {
    "pycharm": {
     "name": "#%%\n"
    }
   },
   "outputs": [
    {
     "data": {
      "text/plain": [
       "array([10.78996198, 22.86265585, 40.75981206, 64.52552842])"
      ]
     },
     "execution_count": 33,
     "metadata": {},
     "output_type": "execute_result"
    }
   ],
   "source": [
    "cdf.quantile([0.25, 0.50, 0.75, 0.90])"
   ]
  },
  {
   "cell_type": "markdown",
   "metadata": {
    "pycharm": {
     "name": "#%% md\n"
    }
   },
   "source": [
    "Starting with the same parameters, I'll run the model 500 steps, recording the distribution of wealth after each 100 steps:"
   ]
  },
  {
   "cell_type": "code",
   "execution_count": 34,
   "metadata": {
    "pycharm": {
     "name": "#%%\n"
    }
   },
   "outputs": [],
   "source": [
    "np.random.seed(17)\n",
    "\n",
    "env = Sugarscape(50, num_agents=250,\n",
    "                 min_lifespan=60, max_lifespan=100, \n",
    "                 replace=True)\n",
    "\n",
    "cdf = Cdf.from_seq(agent.sugar for agent in env.agents)\n",
    "cdfs = [cdf]\n",
    "for i in range(5):\n",
    "    env.loop(100)\n",
    "    cdf = Cdf.from_seq(agent.sugar for agent in env.agents)\n",
    "    cdfs.append(cdf)"
   ]
  },
  {
   "cell_type": "markdown",
   "metadata": {
    "pycharm": {
     "name": "#%% md\n"
    }
   },
   "source": [
    "After about 200 steps, the distribution is stationary (doesn't change over time).\n",
    "\n",
    "On a log scale, it is approximately normal, possibly with a truncated right tail."
   ]
  },
  {
   "cell_type": "code",
   "execution_count": 35,
   "metadata": {
    "pycharm": {
     "name": "#%%\n"
    }
   },
   "outputs": [
    {
     "name": "stdout",
     "output_type": "stream",
     "text": [
      "Saving figure to file figs/chap09-4\n"
     ]
    },
    {
     "data": {
      "image/png": "[encoded data removed]",
      "text/plain": [
       "<Figure size 720x432 with 2 Axes>"
      ]
     },
     "metadata": {
      "needs_background": "light"
     },
     "output_type": "display_data"
    }
   ],
   "source": [
    "plt.figure(figsize=(10, 6))\n",
    "plt.subplot(1, 2, 1)\n",
    "\n",
    "def plot_cdfs(cdfs, **options):\n",
    "    for cdf in cdfs:\n",
    "        cdf.plot(**options)\n",
    "        \n",
    "plot_cdfs(cdfs[:-1], color='gray', alpha=0.3)\n",
    "plot_cdfs(cdfs[-1:], color='C0')\n",
    "decorate(xlabel='Wealth', ylabel='CDF')\n",
    "\n",
    "plt.subplot(1, 2, 2)\n",
    "plot_cdfs(cdfs[:-1], color='gray', alpha=0.3)\n",
    "plot_cdfs(cdfs[-1:], color='C0')\n",
    "decorate(xlabel='Wealth', ylabel='CDF', xscale='log')\n",
    "\n",
    "savefig('figs/chap09-4')"
   ]
  },
  {
   "cell_type": "markdown",
   "metadata": {
    "pycharm": {
     "name": "#%% md\n"
    }
   },
   "source": [
    "**Exercise:** Experiment with different starting conditions and agents with different vision, metabolism, and lifespan.  What effect do these changes have on the distribution of wealth?"
   ]
  },
  {
   "cell_type": "markdown",
   "metadata": {
    "pycharm": {
     "name": "#%% md\n"
    }
   },
   "source": [
    "## Migration in waves"
   ]
  },
  {
   "cell_type": "markdown",
   "metadata": {
    "pycharm": {
     "name": "#%% md\n"
    }
   },
   "source": [
    "If we start with all agents in the lower left, they propagate up and to the right in waves."
   ]
  },
  {
   "cell_type": "code",
   "execution_count": 39,
   "metadata": {
    "pycharm": {
     "name": "#%%\n"
    }
   },
   "outputs": [
    {
     "data": {
      "text/plain": "<Figure size 432x288 with 1 Axes>",
      "image/png": "[encoded data removed]"
     },
     "metadata": {},
     "output_type": "display_data"
    }
   ],
   "source": [
    "np.random.seed(17)\n",
    "\n",
    "env = Sugarscape(50, \n",
    "                 num_agents=300, \n",
    "                 starting_box=(20, 20), \n",
    "                 max_vision=16)\n",
    "    \n",
    "env.animate(frames=20, interval=0.4)"
   ]
  },
  {
   "cell_type": "markdown",
   "metadata": {
    "pycharm": {
     "name": "#%% md\n"
    }
   },
   "source": [
    "Here's what it looks like after 6 and 12 steps."
   ]
  },
  {
   "cell_type": "code",
   "execution_count": 33,
   "metadata": {
    "pycharm": {
     "name": "#%%\n"
    }
   },
   "outputs": [
    {
     "ename": "NameError",
     "evalue": "name 'three_frame' is not defined",
     "output_type": "error",
     "traceback": [
      "\u001B[0;31m---------------------------------------------------------------------------\u001B[0m",
      "\u001B[0;31mNameError\u001B[0m                                 Traceback (most recent call last)",
      "Input \u001B[0;32mIn [33]\u001B[0m, in \u001B[0;36m<cell line: 2>\u001B[0;34m()\u001B[0m\n\u001B[1;32m      1\u001B[0m env \u001B[38;5;241m=\u001B[39m Sugarscape(\u001B[38;5;241m50\u001B[39m, num_agents\u001B[38;5;241m=\u001B[39m\u001B[38;5;241m300\u001B[39m, starting_box\u001B[38;5;241m=\u001B[39m(\u001B[38;5;241m20\u001B[39m, \u001B[38;5;241m20\u001B[39m), max_vision\u001B[38;5;241m=\u001B[39m\u001B[38;5;241m16\u001B[39m)\n\u001B[0;32m----> 2\u001B[0m \u001B[43mthree_frame\u001B[49m(env, [\u001B[38;5;241m0\u001B[39m, \u001B[38;5;241m6\u001B[39m, \u001B[38;5;241m6\u001B[39m])\n\u001B[1;32m      3\u001B[0m savefig(\u001B[38;5;124m'\u001B[39m\u001B[38;5;124mfigs/chap09-5\u001B[39m\u001B[38;5;124m'\u001B[39m)\n",
      "\u001B[0;31mNameError\u001B[0m: name 'three_frame' is not defined"
     ]
    }
   ],
   "source": [
    "env = Sugarscape(50, num_agents=300, starting_box=(20, 20), max_vision=16)\n",
    "three_frame(env, [0, 6, 6])\n",
    "savefig('figs/chap09-5')"
   ]
  },
  {
   "cell_type": "markdown",
   "metadata": {
    "pycharm": {
     "name": "#%% md\n"
    }
   },
   "source": [
    "This example is interesting because the waves move diagonally, unlike the agents, who can only move up or to the right.  They are similar in some ways to gliders and other Game of Life spaceships. "
   ]
  },
  {
   "cell_type": "markdown",
   "metadata": {
    "pycharm": {
     "name": "#%% md\n"
    }
   },
   "source": [
    "**Exercise:** Again, experiment with different starting conditions and see what effect they have on the wave behavior."
   ]
  },
  {
   "cell_type": "markdown",
   "metadata": {
    "pycharm": {
     "name": "#%% md\n"
    }
   },
   "source": [
    "## Exercises"
   ]
  },
  {
   "cell_type": "markdown",
   "metadata": {
    "pycharm": {
     "name": "#%% md\n"
    }
   },
   "source": [
    "**Exercise:** Bill Bishop, author of *The Big Sort*, argues that\n",
    "American society is increasingly segregated by political\n",
    "opinion, as people choose to live among like-minded neighbors.\n",
    "\n",
    "The mechanism Bishop hypothesizes is not that people, like the agents\n",
    "in Schelling's model, are more likely to move if they are\n",
    "isolated, but that when they move for any reason, they are\n",
    "likely to choose a neighborhood with people like themselves.\n",
    "\n",
    "Write a version of Schelling's model to simulate\n",
    "this kind of behavior and see if it yields similar degrees of\n",
    "segregation.\n",
    "\n",
    "There are several ways you can model Bishop's hypothesis.  In my\n",
    "implementation, a random selection of agents moves during each step.\n",
    "Each agent considers `k` randomly-chosen empty locations and\n",
    "chooses the one with the highest fraction of similar neighbors.\n",
    "How does the degree of segregation depend on `k`?\n",
    "\n",
    "You should be able to implement this model by inheriting from\n",
    "`Schelling` and overriding `__init__` and `step`.\n",
    "\n"
   ]
  },
  {
   "cell_type": "code",
   "execution_count": 38,
   "metadata": {
    "pycharm": {
     "name": "#%%\n"
    }
   },
   "outputs": [],
   "source": [
    "# Solution\n",
    "\n",
    "class BigSort(Schelling):\n",
    "    \n",
    "    def __init__(self, n, m=None, num_comps=2):\n",
    "        \"\"\"Initializes the attributes.\n",
    "\n",
    "        n: number of rows\n",
    "        m: number of columns\n",
    "        num_comps: number of houses a mover compares\n",
    "        \"\"\"\n",
    "        self.num_comps = num_comps\n",
    "        super().__init__(n, m)\n",
    "\n",
    "    def step(self, prob_move=0.1):\n",
    "        \"\"\"Executes one time step.\n",
    "        \n",
    "        prob_move: fraction of agents who move\n",
    "        \n",
    "        returns: fraction of similar neighbors, averaged over cells\n",
    "        \"\"\"\n",
    "        a = self.array\n",
    "        \n",
    "        # count the neighbors\n",
    "        empty, frac_red, frac_blue, frac_same = self.count_neighbors()\n",
    "\n",
    "        # find the empty cells\n",
    "        num_empty = np.sum(empty)\n",
    "        empty_locs = locs_where(empty)\n",
    "        \n",
    "        # choose the cells that are moving\n",
    "        r = np.random.random(a.shape)\n",
    "        unhappy_locs = locs_where(~empty & (r < prob_move))\n",
    "\n",
    "        # shuffle the unhappy cells\n",
    "        if len(unhappy_locs):\n",
    "            np.random.shuffle(unhappy_locs)\n",
    "            \n",
    "        # for each unhappy cell, choose a destination and move\n",
    "        for source in unhappy_locs:\n",
    "            \n",
    "            # make a list of random choices\n",
    "            choices = []\n",
    "            indices = np.random.randint(num_empty, size=self.num_comps)\n",
    "            dests = [empty_locs[i] for i in indices]\n",
    "            fracs = [frac_red[dest] for dest in dests]\n",
    "            choices = zip(fracs, indices, dests)\n",
    "            \n",
    "            # choose a destination\n",
    "            if a[source] == 1:\n",
    "                # if red, maximize the fraction of red\n",
    "                frac, i, dest = max(choices)\n",
    "            else:\n",
    "                # if blue, minimize\n",
    "                frac, i, dest = min(choices)\n",
    "\n",
    "            # move\n",
    "            a[dest] = a[source]\n",
    "            a[source] = 0\n",
    "            empty_locs[i] = source\n",
    "        \n",
    "        # check that the number of empty cells hasn't changed\n",
    "        num_empty2 = np.sum(a==0)\n",
    "        assert num_empty == num_empty2\n",
    "        \n",
    "        # return the average fraction of similar neighbors\n",
    "        return np.nanmean(frac_same)"
   ]
  },
  {
   "cell_type": "code",
   "execution_count": 39,
   "metadata": {
    "pycharm": {
     "name": "#%%\n"
    }
   },
   "outputs": [
    {
     "data": {
      "text/plain": [
       "0.5050025329280647"
      ]
     },
     "execution_count": 39,
     "metadata": {},
     "output_type": "execute_result"
    },
    {
     "data": {
      "image/png": "[encoded data removed]",
      "text/plain": [
       "<Figure size 432x288 with 1 Axes>"
      ]
     },
     "metadata": {},
     "output_type": "display_data"
    }
   ],
   "source": [
    "# Solution\n",
    "\n",
    "# Here's a small example.\n",
    "\n",
    "grid = BigSort(n=10)\n",
    "grid.draw()\n",
    "grid.segregation()"
   ]
  },
  {
   "cell_type": "markdown",
   "metadata": {
    "pycharm": {
     "name": "#%% md\n"
    }
   },
   "source": [
    "And a test of the `step` method"
   ]
  },
  {
   "cell_type": "code",
   "execution_count": 40,
   "metadata": {
    "pycharm": {
     "name": "#%%\n"
    }
   },
   "outputs": [
    {
     "data": {
      "text/plain": [
       "0.5050025329280647"
      ]
     },
     "execution_count": 40,
     "metadata": {},
     "output_type": "execute_result"
    }
   ],
   "source": [
    "# Solution\n",
    "\n",
    "# And a test of the `step` method\n",
    "\n",
    "grid.step()"
   ]
  },
  {
   "cell_type": "code",
   "execution_count": 41,
   "metadata": {
    "pycharm": {
     "name": "#%%\n"
    }
   },
   "outputs": [
    {
     "data": {
      "image/png": "[encoded data removed]",
      "text/plain": [
       "<Figure size 432x288 with 1 Axes>"
      ]
     },
     "metadata": {},
     "output_type": "display_data"
    }
   ],
   "source": [
    "# Solution\n",
    "\n",
    "# Here's what the animation looks like with `num_comps=2`\n",
    "\n",
    "grid = BigSort(n=100)\n",
    "grid.animate(frames=60)"
   ]
  },
  {
   "cell_type": "code",
   "execution_count": 42,
   "metadata": {
    "pycharm": {
     "name": "#%%\n"
    }
   },
   "outputs": [
    {
     "name": "stdout",
     "output_type": "stream",
     "text": [
      "4 0.8606436754302608\n",
      "3 0.7953898849259331\n",
      "2 0.6619780830620184\n"
     ]
    },
    {
     "data": {
      "image/png": "[encoded data removed]",
      "text/plain": [
       "<Figure size 432x288 with 1 Axes>"
      ]
     },
     "metadata": {
      "needs_background": "light"
     },
     "output_type": "display_data"
    }
   ],
   "source": [
    "# Solution\n",
    "\n",
    "# Looks like things get pretty segregated, although not as\n",
    "# quickly as in the Schelling model.\n",
    "\n",
    "# Here's how the degree of segregation depends on the number\n",
    "# of locations each agent considers.\n",
    "\n",
    "from utils import set_palette\n",
    "set_palette('Blues', 4, reverse=True)\n",
    "\n",
    "for num_comps in [4, 3, 2]:\n",
    "    grid = BigSort(n=100, num_comps=num_comps)\n",
    "    segs = [grid.step() for i in range(60)]\n",
    "    plt.plot(segs, label=num_comps)\n",
    "    print(num_comps, segs[-1])\n",
    "    \n",
    "decorate(xlabel='Steps', ylabel='Segregation', loc='upper left')"
   ]
  },
  {
   "cell_type": "code",
   "execution_count": 43,
   "metadata": {
    "pycharm": {
     "name": "#%%\n"
    }
   },
   "outputs": [
    {
     "data": {
      "image/png": "[encoded data removed]",
      "text/plain": [
       "<Figure size 432x288 with 1 Axes>"
      ]
     },
     "metadata": {},
     "output_type": "display_data"
    }
   ],
   "source": [
    "# Solution\n",
    "\n",
    "# Here's what the final state looks like with `num_comps=4`\n",
    "\n",
    "# Unlike the Schelling model, the Big Sort model doesn't seem \n",
    "# to aggregate the empty cells.\n",
    "\n",
    "grid.draw();"
   ]
  },
  {
   "cell_type": "markdown",
   "metadata": {
    "pycharm": {
     "name": "#%% md\n"
    }
   },
   "source": [
    "**Exercise:** In the first version of Sugarscape, we never add agents, so once the population falls, it never recovers.  In the second version, we only replace agents when they die, so the population is constant.  Now let's see what happens if we add some \"population pressure\".\n",
    "\n",
    "Write a version of Sugarscape that adds a new agent at the end of every step.  Add code to compute the average vision and the average metabolism of the agents at the end of each step.  Run the model for a few hundred steps and plot the population over time, as well as the average vision and average metabolism.\n",
    "\n",
    "You should be able to implement this model by inheriting from\n",
    "`Sugarscape` and overriding `__init__` and `step`."
   ]
  },
  {
   "cell_type": "code",
   "execution_count": 44,
   "metadata": {
    "pycharm": {
     "name": "#%%\n"
    }
   },
   "outputs": [],
   "source": [
    "# Solution\n",
    "\n",
    "class EvoSugarscape(Sugarscape):\n",
    "    \"\"\"Represents an Epstein-Axtell Sugarscape.\"\"\"\n",
    "    \n",
    "    def __init__(self, n, **params):\n",
    "        \"\"\"Initializes the attributes.\n",
    "\n",
    "        n: number of rows and columns\n",
    "        params: dictionary of parameters\n",
    "        \"\"\"\n",
    "        Sugarscape.__init__(self, n, **params)\n",
    "        \n",
    "        # track variables\n",
    "        self.avg_vision_seq = []\n",
    "        self.avg_metabolism_seq = []\n",
    "    \n",
    "    def step(self):\n",
    "        \"\"\"Executes one time step.\"\"\"\n",
    "        Sugarscape.step(self)\n",
    "        \n",
    "        # average vision\n",
    "        avg_vision = np.mean([agent.vision for agent in self.agents])\n",
    "        self.avg_vision_seq.append(avg_vision)\n",
    "        \n",
    "        # average metabolism\n",
    "        avg_metabolism = np.mean([agent.metabolism for agent in self.agents])\n",
    "        self.avg_metabolism_seq.append(avg_metabolism)\n",
    "        \n",
    "        # add an agent\n",
    "        add_agents = self.params.get('add_agents', False)\n",
    "        if add_agents:\n",
    "            self.add_agent()\n",
    "        \n",
    "        return len(self.agents)"
   ]
  },
  {
   "cell_type": "code",
   "execution_count": 45,
   "metadata": {
    "pycharm": {
     "name": "#%%\n"
    }
   },
   "outputs": [],
   "source": [
    "# Solution\n",
    "\n",
    "# I'll start with the original model, which does not add agents, and `n=300`\n",
    "\n",
    "np.random.seed(17)\n",
    "\n",
    "env = EvoSugarscape(50, num_agents=300)\n",
    "env.loop(300)"
   ]
  },
  {
   "cell_type": "code",
   "execution_count": 46,
   "metadata": {
    "pycharm": {
     "name": "#%%\n"
    }
   },
   "outputs": [
    {
     "data": {
      "image/png": "[encoded data removed]",
      "text/plain": [
       "<Figure size 432x288 with 1 Axes>"
      ]
     },
     "metadata": {
      "needs_background": "light"
     },
     "output_type": "display_data"
    }
   ],
   "source": [
    "# Solution\n",
    "\n",
    "# As we saw before, the number of agents drops to the \"carrying capacity\"\n",
    "\n",
    "plt.plot(env.agent_count_seq)\n",
    "decorate(xlabel='Time steps', ylabel='Agent count')"
   ]
  },
  {
   "cell_type": "code",
   "execution_count": 47,
   "metadata": {
    "pycharm": {
     "name": "#%%\n"
    }
   },
   "outputs": [
    {
     "data": {
      "image/png": "[encoded data removed]",
      "text/plain": [
       "<Figure size 432x288 with 1 Axes>"
      ]
     },
     "metadata": {
      "needs_background": "light"
     },
     "output_type": "display_data"
    }
   ],
   "source": [
    "# Solution\n",
    "\n",
    "# Agents with high metabolism die off quickly, so the average drops quickly.\n",
    "\n",
    "plt.plot(env.avg_metabolism_seq)\n",
    "decorate(xlabel='Time steps', ylabel='Average metabolism')"
   ]
  },
  {
   "cell_type": "code",
   "execution_count": 48,
   "metadata": {
    "scrolled": true,
    "pycharm": {
     "name": "#%%\n"
    }
   },
   "outputs": [
    {
     "data": {
      "image/png": "[encoded data removed]",
      "text/plain": [
       "<Figure size 432x288 with 1 Axes>"
      ]
     },
     "metadata": {
      "needs_background": "light"
     },
     "output_type": "display_data"
    }
   ],
   "source": [
    "# Solution\n",
    "\n",
    "# Agents with poor vision also die quickly, so the average vision increases.\n",
    "\n",
    "plt.plot(env.avg_vision_seq)\n",
    "decorate(xlabel='Time steps', ylabel='Average vision')"
   ]
  },
  {
   "cell_type": "code",
   "execution_count": 49,
   "metadata": {
    "pycharm": {
     "name": "#%%\n"
    }
   },
   "outputs": [],
   "source": [
    "# Solution\n",
    "\n",
    "# Now let's run it again with `add_agents=True`:\n",
    "\n",
    "np.random.seed(17)\n",
    "\n",
    "env = EvoSugarscape(50, num_agents=300, add_agents=True)\n",
    "env.loop(300)"
   ]
  },
  {
   "cell_type": "code",
   "execution_count": 50,
   "metadata": {
    "pycharm": {
     "name": "#%%\n"
    }
   },
   "outputs": [
    {
     "data": {
      "image/png": "[encoded data removed]",
      "text/plain": [
       "<Figure size 432x288 with 1 Axes>"
      ]
     },
     "metadata": {
      "needs_background": "light"
     },
     "output_type": "display_data"
    }
   ],
   "source": [
    "# Solution\n",
    "\n",
    "# Now the initial population dies off, but then rebounds.\n",
    "\n",
    "# Part of the reason for the increase is that the fitness \n",
    "# of the agents increases, which increases the carrying capacity.\n",
    "\n",
    "# But it is also posssible that the initial die-off overshoots \n",
    "# the actual carrying capacity.\n",
    "\n",
    "plt.plot(env.agent_count_seq)\n",
    "decorate(xlabel='Time steps', ylabel='Agent count')"
   ]
  },
  {
   "cell_type": "code",
   "execution_count": 51,
   "metadata": {
    "pycharm": {
     "name": "#%%\n"
    }
   },
   "outputs": [
    {
     "data": {
      "image/png": "[encoded data removed]",
      "text/plain": [
       "<Figure size 432x288 with 1 Axes>"
      ]
     },
     "metadata": {
      "needs_background": "light"
     },
     "output_type": "display_data"
    }
   ],
   "source": [
    "# Solution\n",
    "\n",
    "# As we saw before, metabolism drops quickly during the initial die-off, \n",
    "# but now it continues to fall as new agents are born and the least fit die off.\n",
    "\n",
    "plt.plot(env.avg_metabolism_seq)\n",
    "decorate(xlabel='Time steps', ylabel='Average metabolism')"
   ]
  },
  {
   "cell_type": "code",
   "execution_count": 52,
   "metadata": {
    "scrolled": true,
    "pycharm": {
     "name": "#%%\n"
    }
   },
   "outputs": [
    {
     "data": {
      "image/png": "[encoded data removed]",
      "text/plain": [
       "<Figure size 432x288 with 1 Axes>"
      ]
     },
     "metadata": {
      "needs_background": "light"
     },
     "output_type": "display_data"
    }
   ],
   "source": [
    "# Solution\n",
    "\n",
    "# Average vision increases quickly and then levels off.\n",
    "\n",
    "plt.plot(env.avg_vision_seq)\n",
    "decorate(xlabel='Time steps', ylabel='Average vision')"
   ]
  },
  {
   "cell_type": "code",
   "execution_count": 53,
   "metadata": {
    "pycharm": {
     "name": "#%%\n"
    }
   },
   "outputs": [],
   "source": [
    "# Solution\n",
    "\n",
    "# In some runs, the average vision increases at first, \n",
    "# and then falls gradually, which is surprising.\n",
    "\n",
    "# I conjecture that the intial die-off creates pressure\n",
    "# that kills agents that would have survived in steady state.\n",
    "\n",
    "# After the initial die-off, these agents are able to make \n",
    "# a comeback, which brings the average vision level down.\n",
    "\n",
    "# Also, as the average metabolism continues to fall, \n",
    "# maybe agents can survive despite lower vision.\n",
    "\n",
    "# In general, evolution doesn't make everything optimal;\n",
    "# it makes each feature good enough that you are likely\n",
    "# to die of something else."
   ]
  }
 ],
 "metadata": {
  "kernelspec": {
   "display_name": "Python 3 (ipykernel)",
   "language": "python",
   "name": "python3"
  },
  "language_info": {
   "codemirror_mode": {
    "name": "ipython",
    "version": 3
   },
   "file_extension": ".py",
   "mimetype": "text/x-python",
   "name": "python",
   "nbconvert_exporter": "python",
   "pygments_lexer": "ipython3",
   "version": "3.7.13"
  }
 },
 "nbformat": 4,
 "nbformat_minor": 2
}
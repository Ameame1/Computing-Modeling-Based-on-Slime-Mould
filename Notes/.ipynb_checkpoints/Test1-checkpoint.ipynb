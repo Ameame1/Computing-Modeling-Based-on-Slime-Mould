{
 "cells": [
  {
   "cell_type": "code",
   "execution_count": 29,
   "id": "3ad9499f",
   "metadata": {
    "scrolled": true
   },
   "outputs": [
    {
     "name": "stdout",
     "output_type": "stream",
     "text": [
      "123\n",
      "12\n",
      "123213213\n",
      "123\n",
      "12\n",
      "123213213\n"
     ]
    }
   ],
   "source": [
    "Country = [\"123\",\"12\",\"123213213\"]\n",
    "for country in Country:\n",
    "    print(country)\n",
    "for country in Country:\n",
    "    print(country)\n",
    "  \n"
   ]
  }
 ],
 "metadata": {
  "kernelspec": {
   "display_name": "Python 3 (ipykernel)",
   "language": "python",
   "name": "python3"
  },
  "language_info": {
   "codemirror_mode": {
    "name": "ipython",
    "version": 3
   },
   "file_extension": ".py",
   "mimetype": "text/x-python",
   "name": "python",
   "nbconvert_exporter": "python",
   "pygments_lexer": "ipython3",
   "version": "3.9.12"
  }
 },
 "nbformat": 4,
 "nbformat_minor": 5
}
